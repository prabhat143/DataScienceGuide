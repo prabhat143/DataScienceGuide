{
 "cells": [
  {
   "cell_type": "markdown",
   "id": "3a57b825-610f-4e52-9238-749c2da0c703",
   "metadata": {},
   "source": [
    "# Funtions in Python"
   ]
  },
  {
   "cell_type": "markdown",
   "id": "148b382b-a1e9-44ff-8c1a-c717b1671384",
   "metadata": {},
   "source": [
    "## What is a funtion\n",
    "\n",
    "a funtion contians a unit of code that is required regularyly in the script pragrammers write this piece of code inside a function\n",
    "and use that fucntion wherever needs"
   ]
  },
  {
   "cell_type": "markdown",
   "id": "c6bc48c9-90af-4288-b495-91efa830c7d1",
   "metadata": {},
   "source": [
    "## Types of functions\n",
    "- system defined fucntion\n",
    "- User defined function"
   ]
  },
  {
   "cell_type": "markdown",
   "id": "3bdd7726-c2ad-46d7-adc9-2964b2590a57",
   "metadata": {},
   "source": [
    "## System Defined \n",
    "\n",
    "These are build in fundtion provided by python like print(),len(),type() etc"
   ]
  },
  {
   "cell_type": "code",
   "execution_count": 11,
   "id": "55d5450e-5688-4d63-8c86-b1bd68dff8de",
   "metadata": {},
   "outputs": [
    {
     "name": "stdout",
     "output_type": "stream",
     "text": [
      "\u001b[31mERROR: Could not find a version that satisfies the requirement math (from versions: none)\u001b[0m\u001b[31m\n",
      "\u001b[0m\u001b[31mERROR: No matching distribution found for math\u001b[0m\u001b[31m\n",
      "\u001b[0m"
     ]
    }
   ],
   "source": [
    "!pip install math\n",
    "\n",
    "# mati is a module in python"
   ]
  },
  {
   "cell_type": "code",
   "execution_count": 4,
   "id": "7e4e69a1-f9cc-4018-9067-bee6b6c7a8d2",
   "metadata": {},
   "outputs": [],
   "source": [
    "import math\n",
    "\n",
    "# importing the build-in math module to perform mathematical operations like sqrt, sin , pi,etc"
   ]
  },
  {
   "cell_type": "code",
   "execution_count": 3,
   "id": "c43b8225-716c-4830-8e8a-e9f46606072a",
   "metadata": {},
   "outputs": [
    {
     "data": {
      "text/plain": [
       "9.9498743710662"
      ]
     },
     "execution_count": 3,
     "metadata": {},
     "output_type": "execute_result"
    }
   ],
   "source": [
    "math.sqrt(99)"
   ]
  },
  {
   "cell_type": "code",
   "execution_count": 12,
   "id": "36dfdbcb-dcd1-4cc8-930b-66287074fa84",
   "metadata": {},
   "outputs": [],
   "source": [
    "# Importing the math module with alias 'm' to use shorter names like m.sqrt() , m.pi, etc"
   ]
  },
  {
   "cell_type": "code",
   "execution_count": 13,
   "id": "61c9bbf1-d6c9-40b2-be26-2f31cb5381ab",
   "metadata": {},
   "outputs": [
    {
     "data": {
      "text/plain": [
       "3.0"
      ]
     },
     "execution_count": 13,
     "metadata": {},
     "output_type": "execute_result"
    }
   ],
   "source": [
    "import math as m\n",
    "\n",
    "m.sqrt(9)"
   ]
  },
  {
   "cell_type": "code",
   "execution_count": 18,
   "id": "ac6c3d5b-ff32-4605-9d35-6504705ea84d",
   "metadata": {},
   "outputs": [
    {
     "name": "stdout",
     "output_type": "stream",
     "text": [
      "33.7\n",
      "33.5\n"
     ]
    }
   ],
   "source": [
    "import numpy as np\n",
    "\n",
    "print(np.mean([13,14,5,10,56,88,34,23,89,5])) # using mean function\n",
    "print(np.median([23,43,34,33]))"
   ]
  },
  {
   "cell_type": "markdown",
   "id": "14a734df-59b6-45c9-8e14-c80965e1ed20",
   "metadata": {},
   "source": [
    "# User Defined Fucntion"
   ]
  },
  {
   "cell_type": "markdown",
   "id": "9a0f7cc0-8112-4ba8-a026-2debc3af5dc4",
   "metadata": {},
   "source": [
    "## A function created by the user to perform a specific task"
   ]
  },
  {
   "cell_type": "markdown",
   "id": "8bc32e00-6fa0-44e3-89ec-360b0ba3df58",
   "metadata": {},
   "source": [
    "it helps organize code, resuse logic and improve readablity"
   ]
  },
  {
   "cell_type": "markdown",
   "id": "b0543274-da4e-4dc7-95fe-9883ccd66903",
   "metadata": {},
   "source": [
    "Syntax: Function Defination\n",
    "\n",
    "<pre> def fucntion_name(paramters):\n",
    "    statements\n",
    "    return result (optional) </pre>"
   ]
  },
  {
   "cell_type": "code",
   "execution_count": 19,
   "id": "8803a7b4-12da-4e44-a366-b4c1311ae982",
   "metadata": {},
   "outputs": [],
   "source": [
    "# Fucntion with argument\n",
    "def myfuntion():\n",
    "    print(\"Welcome to tata\")\n",
    "    print(\"acknowledge yourself as we are studying on sunday\")\n",
    "    "
   ]
  },
  {
   "cell_type": "code",
   "execution_count": 20,
   "id": "8e9ada2c-fbc4-4f92-8756-89c325974cf4",
   "metadata": {},
   "outputs": [
    {
     "name": "stdout",
     "output_type": "stream",
     "text": [
      "Welcome to tata\n",
      "acknowledge yourself as we are studying on sunday\n"
     ]
    }
   ],
   "source": [
    "myfuntion()"
   ]
  },
  {
   "cell_type": "code",
   "execution_count": 21,
   "id": "3ec3b574-aa76-4f7a-8dea-ce45022cdd13",
   "metadata": {},
   "outputs": [],
   "source": [
    "# Function with argument\n",
    "def myFunction(name):\n",
    "    print(\"Hello,\",name)\n",
    "# it is function defination , user need to execute first , then user can call"
   ]
  },
  {
   "cell_type": "code",
   "execution_count": 22,
   "id": "8b74bada-b544-481f-8d23-dcca9ca29583",
   "metadata": {},
   "outputs": [
    {
     "name": "stdout",
     "output_type": "stream",
     "text": [
      "Hello, prabhat\n"
     ]
    }
   ],
   "source": [
    "myFunction(\"prabhat\")"
   ]
  },
  {
   "cell_type": "markdown",
   "id": "43d8fcc4-6ee9-446b-a25e-3f8bb065200f",
   "metadata": {},
   "source": [
    "## Quiz: \n",
    "Write a program to define a user defined function\n",
    "to print a message 4 times using for loop"
   ]
  },
  {
   "cell_type": "code",
   "execution_count": 25,
   "id": "8573e8d5-10e4-407f-afd3-2ef2aecddab9",
   "metadata": {},
   "outputs": [],
   "source": [
    "def myMessage():\n",
    "    for i in range(1,5):\n",
    "        print(\"Hi my name is prabhat\")"
   ]
  },
  {
   "cell_type": "code",
   "execution_count": 26,
   "id": "f06f0161-f270-4a21-bf2a-65148063426c",
   "metadata": {},
   "outputs": [
    {
     "name": "stdout",
     "output_type": "stream",
     "text": [
      "Hi my name is prabhat\n",
      "Hi my name is prabhat\n",
      "Hi my name is prabhat\n",
      "Hi my name is prabhat\n"
     ]
    }
   ],
   "source": [
    "myMessage()"
   ]
  },
  {
   "cell_type": "code",
   "execution_count": 27,
   "id": "a09ac265-8776-4913-a49c-db5da934d2ef",
   "metadata": {},
   "outputs": [],
   "source": [
    "def myMessage(n):\n",
    "    for i in range(1,n+1):\n",
    "        print(\"Hi my name is prabhat\")"
   ]
  },
  {
   "cell_type": "code",
   "execution_count": 29,
   "id": "bdea7faa-591a-4940-b8b5-13b40ef051e4",
   "metadata": {},
   "outputs": [
    {
     "name": "stdout",
     "output_type": "stream",
     "text": [
      "Hi my name is prabhat\n",
      "Hi my name is prabhat\n",
      "Hi my name is prabhat\n",
      "Hi my name is prabhat\n",
      "Hi my name is prabhat\n"
     ]
    }
   ],
   "source": [
    "myMessage(5)"
   ]
  },
  {
   "cell_type": "markdown",
   "id": "6c8c7b75-7fda-4b6e-bd25-063f72417be7",
   "metadata": {},
   "source": [
    "### write a prgram for user defined finction with argument for addition of two numbers and display"
   ]
  },
  {
   "cell_type": "code",
   "execution_count": 30,
   "id": "4470d933-a832-4d25-9501-31a324fb1a0d",
   "metadata": {},
   "outputs": [],
   "source": [
    "def myAddition(a,b):\n",
    "    print(a+b)"
   ]
  },
  {
   "cell_type": "code",
   "execution_count": 31,
   "id": "756c9e53-d9a0-476e-88ad-309c0a2f39e3",
   "metadata": {},
   "outputs": [
    {
     "name": "stdout",
     "output_type": "stream",
     "text": [
      "11\n"
     ]
    }
   ],
   "source": [
    "myAddition(5,6)"
   ]
  },
  {
   "cell_type": "code",
   "execution_count": 32,
   "id": "e7e7939b-abb2-4453-9dc2-e9527c09832e",
   "metadata": {},
   "outputs": [
    {
     "name": "stdout",
     "output_type": "stream",
     "text": [
      "-1\n"
     ]
    }
   ],
   "source": [
    "myAddition(5,-6)"
   ]
  },
  {
   "cell_type": "markdown",
   "id": "2a0962a3-350e-4736-b8cc-1b02e8a05838",
   "metadata": {},
   "source": [
    "### Different variation in function arguments"
   ]
  },
  {
   "cell_type": "code",
   "execution_count": 35,
   "id": "2103a641-28ad-4476-aabb-5f36ed88daa4",
   "metadata": {},
   "outputs": [],
   "source": [
    "# writing a user defined function , which retruns value\n",
    "\n",
    "def myFunction(x):\n",
    "    return(x+3)"
   ]
  },
  {
   "cell_type": "code",
   "execution_count": 37,
   "id": "4ed5846e-015a-4344-be0d-2b9a8e30032b",
   "metadata": {},
   "outputs": [
    {
     "name": "stdout",
     "output_type": "stream",
     "text": [
      "20\n"
     ]
    }
   ],
   "source": [
    "z = myFunction(5)\n",
    "print(z+12)"
   ]
  },
  {
   "cell_type": "markdown",
   "id": "c997c339-fa6f-468a-9a40-b80b58e542d6",
   "metadata": {},
   "source": [
    "## Function with defaul argument"
   ]
  },
  {
   "cell_type": "code",
   "execution_count": 39,
   "id": "cb9e81b4-3b15-4570-8a46-64c9317ed351",
   "metadata": {},
   "outputs": [],
   "source": [
    "def divide(x,y=5):\n",
    "    return(x/y)"
   ]
  },
  {
   "cell_type": "code",
   "execution_count": 40,
   "id": "945e3d1f-20e9-429c-ba9f-6a4d07b7f0fb",
   "metadata": {},
   "outputs": [
    {
     "data": {
      "text/plain": [
       "3.0"
      ]
     },
     "execution_count": 40,
     "metadata": {},
     "output_type": "execute_result"
    }
   ],
   "source": [
    "divide(15)"
   ]
  },
  {
   "cell_type": "code",
   "execution_count": 41,
   "id": "a9a834c7-7d5a-49d1-bc02-46e1a5399857",
   "metadata": {},
   "outputs": [
    {
     "data": {
      "text/plain": [
       "5.0"
      ]
     },
     "execution_count": 41,
     "metadata": {},
     "output_type": "execute_result"
    }
   ],
   "source": [
    "divide(15,3)"
   ]
  },
  {
   "cell_type": "markdown",
   "id": "1077b3bc-133f-474c-98dc-831635cb2ebf",
   "metadata": {},
   "source": [
    "## Recurvise Function\n",
    "\n",
    "A function that calls itself to solve a smaller part of the problem"
   ]
  },
  {
   "cell_type": "markdown",
   "id": "61367c2b-e099-46ee-ac7b-34eacb4048c8",
   "metadata": {},
   "source": [
    "Useful for problem that can be broken into smaller, similar sub-problems\n",
    "Common examples: factorial, fibonacci, tree traversal etc\n",
    "\n",
    "limitatio:\n",
    "\n",
    "- My lead to stack overflow for larger inputs\n",
    "- Slower than loops in some cases unless optimized with memorization."
   ]
  },
  {
   "cell_type": "markdown",
   "id": "9d066256-f74e-46ca-bcba-a63c511aaffc",
   "metadata": {},
   "source": [
    "## Write a program to calculate factorial of given number using Recursive function"
   ]
  },
  {
   "cell_type": "code",
   "execution_count": 43,
   "id": "b4b0cc9a-d9db-42c4-ab91-1f08ced9b075",
   "metadata": {},
   "outputs": [],
   "source": [
    "def myFactorial(n):\n",
    "    if n == 1:\n",
    "        return 1\n",
    "    else:\n",
    "        return n * myFactorial(n-1)"
   ]
  },
  {
   "cell_type": "code",
   "execution_count": 45,
   "id": "eba9f597-9b45-42e3-92d8-f6dbfadd8f9b",
   "metadata": {},
   "outputs": [
    {
     "name": "stdin",
     "output_type": "stream",
     "text": [
      "Enter a number to find its factorial:  3\n"
     ]
    },
    {
     "name": "stdout",
     "output_type": "stream",
     "text": [
      "Factorial of 3 is 6\n"
     ]
    }
   ],
   "source": [
    "num = int(input(\"Enter a number to find its factorial: \"))\n",
    "result = myFactorial(num)\n",
    "print(\"Factorial of\",num,\"is\",result)"
   ]
  },
  {
   "cell_type": "markdown",
   "id": "e8296a34-d58b-4e09-a583-c222d36d0342",
   "metadata": {},
   "source": [
    "## Write a program in python with recursive function, to add all numbers between 1 and n"
   ]
  },
  {
   "cell_type": "code",
   "execution_count": 46,
   "id": "0dc94f42-76fe-449b-a308-8bf9103e2612",
   "metadata": {},
   "outputs": [],
   "source": [
    "def sun_of_natural(n):\n",
    "    if(n==1):\n",
    "        return 1\n",
    "    else:\n",
    "        return n+sun_of_natural(n-1)"
   ]
  },
  {
   "cell_type": "code",
   "execution_count": 49,
   "id": "b1f24edb-10ee-45f1-8a42-1c416091aae2",
   "metadata": {},
   "outputs": [
    {
     "name": "stdin",
     "output_type": "stream",
     "text": [
      "Enter a number to find its sum of natural numbers:  4\n"
     ]
    },
    {
     "name": "stdout",
     "output_type": "stream",
     "text": [
      "sum of natural numbers 4 is 10\n"
     ]
    }
   ],
   "source": [
    "num = int(input(\"Enter a number to find its sum of natural numbers: \"))\n",
    "result = sun_of_natural(num)\n",
    "print(\"sum of natural numbers\",num,\"is\",result)"
   ]
  }
 ],
 "metadata": {
  "kernelspec": {
   "display_name": "Python [conda env:base] *",
   "language": "python",
   "name": "conda-base-py"
  },
  "language_info": {
   "codemirror_mode": {
    "name": "ipython",
    "version": 3
   },
   "file_extension": ".py",
   "mimetype": "text/x-python",
   "name": "python",
   "nbconvert_exporter": "python",
   "pygments_lexer": "ipython3",
   "version": "3.13.5"
  }
 },
 "nbformat": 4,
 "nbformat_minor": 5
}
