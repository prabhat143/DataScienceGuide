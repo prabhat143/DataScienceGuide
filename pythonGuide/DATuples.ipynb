{
 "cells": [
  {
   "cell_type": "markdown",
   "id": "a25483d6-79a6-448b-a8b3-53ac1b3290a4",
   "metadata": {},
   "source": [
    "# Tuples"
   ]
  },
  {
   "cell_type": "markdown",
   "id": "bf5c7563-1b69-415a-a13e-c2b13654a5f3",
   "metadata": {},
   "source": [
    "are another data strcuture in python, which is immutable in sequence"
   ]
  },
  {
   "cell_type": "markdown",
   "id": "fc7b95a9-fdf2-4005-b405-30edf37a52b1",
   "metadata": {},
   "source": [
    "## how to declare and initialise tuple\n"
   ]
  },
  {
   "cell_type": "code",
   "execution_count": 4,
   "id": "0367c2f6-d610-4339-9ad6-78e33f9e90c7",
   "metadata": {},
   "outputs": [],
   "source": [
    "mytuples = (1,2,3)"
   ]
  },
  {
   "cell_type": "code",
   "execution_count": 5,
   "id": "cb1ffb94-ed10-4cca-947e-430ae8c02878",
   "metadata": {},
   "outputs": [
    {
     "data": {
      "text/plain": [
       "(1, 2, 3)"
      ]
     },
     "execution_count": 5,
     "metadata": {},
     "output_type": "execute_result"
    }
   ],
   "source": [
    "mytuples"
   ]
  },
  {
   "cell_type": "code",
   "execution_count": 6,
   "id": "c8b5425e-b106-4fea-b791-e0626a1be4b8",
   "metadata": {},
   "outputs": [
    {
     "data": {
      "text/plain": [
       "tuple"
      ]
     },
     "execution_count": 6,
     "metadata": {},
     "output_type": "execute_result"
    }
   ],
   "source": [
    "type(mytuples)"
   ]
  },
  {
   "cell_type": "markdown",
   "id": "d2f59d25-8154-4a3e-97b5-b8cbf40c3d78",
   "metadata": {},
   "source": [
    "## Accessing element of tuple"
   ]
  },
  {
   "cell_type": "code",
   "execution_count": 9,
   "id": "40fd73bf-4195-4116-8544-d8546b1877da",
   "metadata": {},
   "outputs": [],
   "source": [
    "my_tuple = (10, 3, 5, 6, 2.5, 12)"
   ]
  },
  {
   "cell_type": "code",
   "execution_count": 10,
   "id": "690bc8b2-4190-4034-8b62-50c88de37d0b",
   "metadata": {},
   "outputs": [
    {
     "data": {
      "text/plain": [
       "12"
      ]
     },
     "execution_count": 10,
     "metadata": {},
     "output_type": "execute_result"
    }
   ],
   "source": [
    "my_tuple[5]"
   ]
  },
  {
   "cell_type": "code",
   "execution_count": 11,
   "id": "c825493e-d362-4fd8-8530-5afce9f8c1e5",
   "metadata": {},
   "outputs": [
    {
     "data": {
      "text/plain": [
       "10"
      ]
     },
     "execution_count": 11,
     "metadata": {},
     "output_type": "execute_result"
    }
   ],
   "source": [
    "my_tuple[0]"
   ]
  },
  {
   "cell_type": "code",
   "execution_count": 12,
   "id": "592f7fd6-9f3c-4d87-8a2c-2c878ffde9ee",
   "metadata": {},
   "outputs": [
    {
     "data": {
      "text/plain": [
       "2.5"
      ]
     },
     "execution_count": 12,
     "metadata": {},
     "output_type": "execute_result"
    }
   ],
   "source": [
    "my_tuple[-2]"
   ]
  },
  {
   "cell_type": "markdown",
   "id": "8bc2bbc0-c131-437d-9ffe-03ef192cfb08",
   "metadata": {},
   "source": [
    "### slicing"
   ]
  },
  {
   "cell_type": "code",
   "execution_count": 14,
   "id": "16718d99-4c6b-4f83-ae19-2bbe776ff46d",
   "metadata": {},
   "outputs": [
    {
     "data": {
      "text/plain": [
       "(3, 5, 6, 2.5, 12)"
      ]
     },
     "execution_count": 14,
     "metadata": {},
     "output_type": "execute_result"
    }
   ],
   "source": [
    "my_tuple[1:6]"
   ]
  },
  {
   "cell_type": "code",
   "execution_count": 15,
   "id": "3dcf88ed-7cf9-4126-9502-be13a0712d91",
   "metadata": {},
   "outputs": [
    {
     "data": {
      "text/plain": [
       "(10, 3, 5, 6, 2.5, 12)"
      ]
     },
     "execution_count": 15,
     "metadata": {},
     "output_type": "execute_result"
    }
   ],
   "source": [
    "my_tuple[:6]"
   ]
  },
  {
   "cell_type": "markdown",
   "id": "eb6f7c85-fb05-4a07-b9e1-3c24d47caf2d",
   "metadata": {},
   "source": [
    "## Tuples elements are immutable, that means can not change"
   ]
  },
  {
   "cell_type": "code",
   "execution_count": 16,
   "id": "893c4f94-527e-4866-bb16-16737f9e9175",
   "metadata": {},
   "outputs": [
    {
     "data": {
      "text/plain": [
       "(10, 3, 5, 6, 2.5, 12)"
      ]
     },
     "execution_count": 16,
     "metadata": {},
     "output_type": "execute_result"
    }
   ],
   "source": [
    "my_tuple"
   ]
  },
  {
   "cell_type": "markdown",
   "id": "4232c5ea-c099-42ad-a080-e1424d26481c",
   "metadata": {},
   "source": [
    "my_tuple[1]=13 # since it is immutable, it cannot change any element"
   ]
  },
  {
   "cell_type": "markdown",
   "id": "edd759c9-50e0-4dff-bfb3-d0a06c35acc6",
   "metadata": {},
   "source": [
    "## Converting list into tuple"
   ]
  },
  {
   "cell_type": "code",
   "execution_count": 20,
   "id": "ba9610c7-0b06-4eb6-a9a3-4d0c0134bccc",
   "metadata": {},
   "outputs": [],
   "source": [
    "myList = [1,2,4,6]"
   ]
  },
  {
   "cell_type": "code",
   "execution_count": 21,
   "id": "af16dda6-734b-4068-9c98-9e33695c57e7",
   "metadata": {},
   "outputs": [],
   "source": [
    "myList[1] = 13"
   ]
  },
  {
   "cell_type": "code",
   "execution_count": 22,
   "id": "00be568a-a93e-4e68-901e-3ebfbe57e28b",
   "metadata": {},
   "outputs": [],
   "source": [
    "my_tuples = tuple(myList)"
   ]
  },
  {
   "cell_type": "code",
   "execution_count": 23,
   "id": "6b138d3a-7c2b-4732-9cab-7d26019bc96e",
   "metadata": {},
   "outputs": [
    {
     "name": "stdout",
     "output_type": "stream",
     "text": [
      "[1, 13, 4, 6]\n"
     ]
    }
   ],
   "source": [
    "print(myList)"
   ]
  },
  {
   "cell_type": "code",
   "execution_count": 24,
   "id": "f24316f9-9e26-415a-b87c-0421f765b63f",
   "metadata": {},
   "outputs": [
    {
     "name": "stdout",
     "output_type": "stream",
     "text": [
      "(1, 13, 4, 6)\n"
     ]
    }
   ],
   "source": [
    "print(my_tuples)"
   ]
  },
  {
   "cell_type": "markdown",
   "id": "34aa392d-14c9-437c-aa46-48e249bd0fc9",
   "metadata": {},
   "source": [
    "## Find the length of a tuple"
   ]
  },
  {
   "cell_type": "code",
   "execution_count": 25,
   "id": "7429e783-ec11-4bc7-94cc-a316fe64e9f8",
   "metadata": {},
   "outputs": [
    {
     "data": {
      "text/plain": [
       "4"
      ]
     },
     "execution_count": 25,
     "metadata": {},
     "output_type": "execute_result"
    }
   ],
   "source": [
    "len(my_tuples)"
   ]
  },
  {
   "cell_type": "markdown",
   "id": "185e7c6d-2b81-49bc-ad3a-88aab9a5c4e9",
   "metadata": {},
   "source": [
    "## Checking for the presence or absence of element"
   ]
  },
  {
   "cell_type": "code",
   "execution_count": 26,
   "id": "7b352437-9da9-4a3b-901d-8b1c5dcc78e0",
   "metadata": {},
   "outputs": [
    {
     "data": {
      "text/plain": [
       "False"
      ]
     },
     "execution_count": 26,
     "metadata": {},
     "output_type": "execute_result"
    }
   ],
   "source": [
    "20 in my_tuples"
   ]
  },
  {
   "cell_type": "code",
   "execution_count": 27,
   "id": "01708491-a759-4603-84db-e23cde8cdcfe",
   "metadata": {},
   "outputs": [
    {
     "data": {
      "text/plain": [
       "True"
      ]
     },
     "execution_count": 27,
     "metadata": {},
     "output_type": "execute_result"
    }
   ],
   "source": [
    "13 in my_tuples"
   ]
  },
  {
   "cell_type": "markdown",
   "id": "194b6688-9d30-415a-803a-f40cea3f5667",
   "metadata": {},
   "source": [
    "## Find the index of an element in tuple"
   ]
  },
  {
   "cell_type": "code",
   "execution_count": 29,
   "id": "48c9caa2-e874-4c2a-a5b1-5cca18e529be",
   "metadata": {},
   "outputs": [
    {
     "data": {
      "text/plain": [
       "1"
      ]
     },
     "execution_count": 29,
     "metadata": {},
     "output_type": "execute_result"
    }
   ],
   "source": [
    "my_tuples.index(13)"
   ]
  },
  {
   "cell_type": "markdown",
   "id": "410df356-a8cc-4eb5-b1c4-eb641af3caab",
   "metadata": {},
   "source": [
    "## Find max and min in tuple"
   ]
  },
  {
   "cell_type": "code",
   "execution_count": 32,
   "id": "5d216b80-bb53-44b9-b973-3b4ac63b281e",
   "metadata": {},
   "outputs": [
    {
     "data": {
      "text/plain": [
       "13"
      ]
     },
     "execution_count": 32,
     "metadata": {},
     "output_type": "execute_result"
    }
   ],
   "source": [
    "max(my_tuples)"
   ]
  },
  {
   "cell_type": "code",
   "execution_count": 33,
   "id": "cba104ee-b94a-402e-9e3a-9468dec99b8a",
   "metadata": {},
   "outputs": [
    {
     "data": {
      "text/plain": [
       "1"
      ]
     },
     "execution_count": 33,
     "metadata": {},
     "output_type": "execute_result"
    }
   ],
   "source": [
    "min(my_tuples)"
   ]
  },
  {
   "cell_type": "code",
   "execution_count": 33,
   "id": "307346b2-386a-4e5e-bba7-11bda709d234",
   "metadata": {},
   "outputs": [
    {
     "data": {
      "text/plain": [
       "1"
      ]
     },
     "execution_count": 33,
     "metadata": {},
     "output_type": "execute_result"
    }
   ],
   "source": [
    "min(my_tuples)"
   ]
  },
  {
   "cell_type": "code",
   "execution_count": 34,
   "id": "9568dfcd-26e8-469c-882b-1ab9ae73d548",
   "metadata": {},
   "outputs": [
    {
     "data": {
      "text/plain": [
       "24"
      ]
     },
     "execution_count": 34,
     "metadata": {},
     "output_type": "execute_result"
    }
   ],
   "source": [
    "sum(my_tuples)"
   ]
  },
  {
   "cell_type": "code",
   "execution_count": 35,
   "id": "55d03e51-a60d-42ad-b35e-74dec05b654d",
   "metadata": {},
   "outputs": [
    {
     "data": {
      "text/plain": [
       "1"
      ]
     },
     "execution_count": 35,
     "metadata": {},
     "output_type": "execute_result"
    }
   ],
   "source": [
    "my_tuples.count(1)"
   ]
  },
  {
   "cell_type": "markdown",
   "id": "5720bbca-2158-4be6-a393-cc45dbaade86",
   "metadata": {},
   "source": [
    "## unpacking elements of tuple"
   ]
  },
  {
   "cell_type": "code",
   "execution_count": 40,
   "id": "b869ab46-f79a-4dc6-8937-18f213cd1f72",
   "metadata": {},
   "outputs": [
    {
     "data": {
      "text/plain": [
       "(10, 3, 5, 6, 2.5, 12)"
      ]
     },
     "execution_count": 40,
     "metadata": {},
     "output_type": "execute_result"
    }
   ],
   "source": [
    "my_tuple"
   ]
  },
  {
   "cell_type": "code",
   "execution_count": 41,
   "id": "5da38298-8c84-4d38-bec0-c0f94486d81f",
   "metadata": {},
   "outputs": [],
   "source": [
    "ele_1, ele_2, ele_3, ele_4, ele_5, ele_6 = my_tuple"
   ]
  },
  {
   "cell_type": "code",
   "execution_count": 42,
   "id": "64fd41da-3cfc-4a87-988a-112460cea09f",
   "metadata": {},
   "outputs": [
    {
     "data": {
      "text/plain": [
       "10"
      ]
     },
     "execution_count": 42,
     "metadata": {},
     "output_type": "execute_result"
    }
   ],
   "source": [
    "ele_1"
   ]
  },
  {
   "cell_type": "code",
   "execution_count": 43,
   "id": "006ce46e-92c2-4219-8081-f27fbdefa643",
   "metadata": {},
   "outputs": [
    {
     "data": {
      "text/plain": [
       "3"
      ]
     },
     "execution_count": 43,
     "metadata": {},
     "output_type": "execute_result"
    }
   ],
   "source": [
    "ele_2"
   ]
  },
  {
   "cell_type": "markdown",
   "id": "474a71c0-25e6-48d1-8584-0bacfa6da02a",
   "metadata": {},
   "source": [
    "## Conctenating tuples"
   ]
  },
  {
   "cell_type": "code",
   "execution_count": 44,
   "id": "1b5a9f90-dd2b-46ea-8f72-b7adcaf44dea",
   "metadata": {},
   "outputs": [
    {
     "data": {
      "text/plain": [
       "('H', 'E', 'L', 'L', '0')"
      ]
     },
     "execution_count": 44,
     "metadata": {},
     "output_type": "execute_result"
    }
   ],
   "source": [
    "tuple_1 = ('H','E', 'L', 'L', '0')\n",
    "tuple_1"
   ]
  },
  {
   "cell_type": "code",
   "execution_count": 45,
   "id": "582e31c8-9fe8-45f0-b368-602810e63b87",
   "metadata": {},
   "outputs": [
    {
     "data": {
      "text/plain": [
       "('T', 'H', 'E', 'R', 'E')"
      ]
     },
     "execution_count": 45,
     "metadata": {},
     "output_type": "execute_result"
    }
   ],
   "source": [
    "tuple_2 = ('T', 'H', 'E', 'R', 'E')\n",
    "tuple_2"
   ]
  },
  {
   "cell_type": "code",
   "execution_count": 47,
   "id": "1cdfe7f4-4c05-4f96-b81d-8122bcaa83e6",
   "metadata": {},
   "outputs": [
    {
     "data": {
      "text/plain": [
       "('H', 'E', 'L', 'L', '0', 'T', 'H', 'E', 'R', 'E')"
      ]
     },
     "execution_count": 47,
     "metadata": {},
     "output_type": "execute_result"
    }
   ],
   "source": [
    "newTuple = tuple_1 + tuple_2\n",
    "newTuple"
   ]
  },
  {
   "cell_type": "markdown",
   "id": "08353ba7-b877-4eb4-8135-eb5e5a17900b",
   "metadata": {},
   "source": [
    "## Sorting tuple"
   ]
  },
  {
   "cell_type": "markdown",
   "id": "c7ec3c96-1a0c-44b7-8193-922177a82965",
   "metadata": {},
   "source": [
    "its important to nt that tuples are immutable\n",
    "\n",
    "Therefore, sorting a tuple creates a new sorted list rather than modify the original tuple in-place"
   ]
  },
  {
   "cell_type": "code",
   "execution_count": 50,
   "id": "b9401f94-a92d-4c25-9046-550267fafd1b",
   "metadata": {},
   "outputs": [],
   "source": [
    "mytuple = (41,13,55,20,33)"
   ]
  },
  {
   "cell_type": "code",
   "execution_count": 59,
   "id": "4ec21b29-dbeb-470c-9c8a-a3772624aa0b",
   "metadata": {},
   "outputs": [],
   "source": [
    "sortedElements = sorted(mytuple)"
   ]
  },
  {
   "cell_type": "code",
   "execution_count": 60,
   "id": "74da704d-66d7-4dc9-8893-3cbbfc6fcb36",
   "metadata": {},
   "outputs": [
    {
     "data": {
      "text/plain": [
       "[13, 20, 33, 41, 55]"
      ]
     },
     "execution_count": 60,
     "metadata": {},
     "output_type": "execute_result"
    }
   ],
   "source": [
    "sortedElements"
   ]
  },
  {
   "cell_type": "code",
   "execution_count": 61,
   "id": "7318d3a7-a762-4d9b-9010-b752f9966504",
   "metadata": {},
   "outputs": [
    {
     "data": {
      "text/plain": [
       "list"
      ]
     },
     "execution_count": 61,
     "metadata": {},
     "output_type": "execute_result"
    }
   ],
   "source": [
    "type(sortedElements)"
   ]
  },
  {
   "cell_type": "code",
   "execution_count": 54,
   "id": "d35ade43-c1dd-484c-b538-25346654c9d8",
   "metadata": {},
   "outputs": [
    {
     "data": {
      "text/plain": [
       "(41, 13, 55, 20, 33)"
      ]
     },
     "execution_count": 54,
     "metadata": {},
     "output_type": "execute_result"
    }
   ],
   "source": [
    "mytuple"
   ]
  },
  {
   "cell_type": "code",
   "execution_count": 63,
   "id": "4c31cf69-fdf3-4321-ba3c-0d88e1415daa",
   "metadata": {},
   "outputs": [],
   "source": [
    "sortedElements = tuple(sorted(mytuple))"
   ]
  },
  {
   "cell_type": "code",
   "execution_count": 64,
   "id": "06bd3247-d8bd-4aa9-885c-c68e0318edfa",
   "metadata": {},
   "outputs": [
    {
     "data": {
      "text/plain": [
       "tuple"
      ]
     },
     "execution_count": 64,
     "metadata": {},
     "output_type": "execute_result"
    }
   ],
   "source": [
    "type(sortedElements)"
   ]
  },
  {
   "cell_type": "markdown",
   "id": "cd2c1a89-20e5-4731-999f-bb23e9ee5f0e",
   "metadata": {},
   "source": [
    "## What is the diff between list and tuple"
   ]
  },
  {
   "cell_type": "markdown",
   "id": "f8049bce-a33d-47d3-b52f-e1a5ddfce13e",
   "metadata": {},
   "source": [
    "* list is mutable and tuples are immutable\n",
    "* added,removed or modified while elements in tuple cannot be modified.\n",
    "* iterations are more time consuming in lists compared to tuples\n",
    "* Lists consume more memory than tuples.\n",
    "* Lists have more build in methods than tuples"
   ]
  },
  {
   "cell_type": "markdown",
   "id": "6b99e597-f73b-43bb-91dc-49d7a1baba1c",
   "metadata": {},
   "source": [
    "### A single element tuple must have a comma: (5,)"
   ]
  }
 ],
 "metadata": {
  "kernelspec": {
   "display_name": "Python [conda env:jl311]",
   "language": "python",
   "name": "conda-env-jl311-py"
  },
  "language_info": {
   "codemirror_mode": {
    "name": "ipython",
    "version": 3
   },
   "file_extension": ".py",
   "mimetype": "text/x-python",
   "name": "python",
   "nbconvert_exporter": "python",
   "pygments_lexer": "ipython3",
   "version": "3.11.13"
  }
 },
 "nbformat": 4,
 "nbformat_minor": 5
}
