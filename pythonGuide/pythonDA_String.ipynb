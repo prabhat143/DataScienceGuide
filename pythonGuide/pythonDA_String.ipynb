{
 "cells": [
  {
   "cell_type": "markdown",
   "id": "7ed49a0a-e28e-433b-9f45-85a15d928083",
   "metadata": {},
   "source": [
    "# Data Structure"
   ]
  },
  {
   "cell_type": "markdown",
   "id": "e8d5f605-ddf1-4eff-a542-4edd0d80ad46",
   "metadata": {},
   "source": [
    "### What is data structure?\n",
    "A data structure is a way of organising and storing the data so that it can be accessed and modidied efficiently. In pythin commnonly used build-in\n",
    "structure include strings lists tuples dictionaries and set"
   ]
  },
  {
   "cell_type": "markdown",
   "id": "d12026d0-2fab-4069-8fe8-56420ff29548",
   "metadata": {},
   "source": [
    "## Data Structures in Python\n",
    "* **string** : Mutable sequence of elements\n",
    "* **List**: Mutable sequence of elements\n",
    "* **Tuple**: immutable sequence of elements\n",
    "* **Set**: Unordered collection if unique elements\n",
    "* **Dictionary**: Key-value pairs for fast lookups"
   ]
  },
  {
   "cell_type": "code",
   "execution_count": 5,
   "id": "d13b34e0-21c4-4e45-9642-919adc5f75d7",
   "metadata": {},
   "outputs": [
    {
     "name": "stdout",
     "output_type": "stream",
     "text": [
      "\n"
     ]
    }
   ],
   "source": [
    "#Examples of emplty string\n",
    "st = ''\n",
    "st\n",
    "''\n",
    "type(st)\n",
    "print(st)"
   ]
  },
  {
   "cell_type": "code",
   "execution_count": 7,
   "id": "82f4a9ea-c304-4963-a7b3-8218ccd83ae9",
   "metadata": {},
   "outputs": [],
   "source": [
    "#Example of non-empty strings\n",
    "my_string = 'data sceince'"
   ]
  },
  {
   "cell_type": "code",
   "execution_count": 8,
   "id": "b481e7df-151b-4396-a666-1d74340a2515",
   "metadata": {},
   "outputs": [
    {
     "data": {
      "text/plain": [
       "str"
      ]
     },
     "execution_count": 8,
     "metadata": {},
     "output_type": "execute_result"
    }
   ],
   "source": [
    "type(my_string)"
   ]
  },
  {
   "cell_type": "code",
   "execution_count": 9,
   "id": "512ad96e-5edd-49c9-9dfa-09625916065f",
   "metadata": {},
   "outputs": [
    {
     "data": {
      "text/plain": [
       "str"
      ]
     },
     "execution_count": 9,
     "metadata": {},
     "output_type": "execute_result"
    }
   ],
   "source": [
    "some_string = '25'\n",
    "type(some_string)"
   ]
  },
  {
   "cell_type": "code",
   "execution_count": 10,
   "id": "5a9a175d-1bf0-47dd-90a1-76288e6d605a",
   "metadata": {},
   "outputs": [
    {
     "ename": "TypeError",
     "evalue": "unsupported operand type(s) for /: 'str' and 'int'",
     "output_type": "error",
     "traceback": [
      "\u001b[0;31m---------------------------------------------------------------------------\u001b[0m",
      "\u001b[0;31mTypeError\u001b[0m                                 Traceback (most recent call last)",
      "Cell \u001b[0;32mIn[10], line 1\u001b[0m\n\u001b[0;32m----> 1\u001b[0m some_string\u001b[38;5;241m/\u001b[39m\u001b[38;5;241m2\u001b[39m\n",
      "\u001b[0;31mTypeError\u001b[0m: unsupported operand type(s) for /: 'str' and 'int'"
     ]
    }
   ],
   "source": [
    "some_string/2"
   ]
  },
  {
   "cell_type": "code",
   "execution_count": 11,
   "id": "5fca32f8-a132-4129-8621-888ca96bab9c",
   "metadata": {},
   "outputs": [],
   "source": [
    "new_string = int(some_string)"
   ]
  },
  {
   "cell_type": "code",
   "execution_count": 12,
   "id": "71fbc766-3bb3-4e0d-bca7-6597b65ece1c",
   "metadata": {},
   "outputs": [
    {
     "data": {
      "text/plain": [
       "int"
      ]
     },
     "execution_count": 12,
     "metadata": {},
     "output_type": "execute_result"
    }
   ],
   "source": [
    "type(new_string)"
   ]
  },
  {
   "cell_type": "code",
   "execution_count": 13,
   "id": "2de0fb86-b8c5-497a-9763-27a54491aed0",
   "metadata": {},
   "outputs": [
    {
     "ename": "SyntaxError",
     "evalue": "unterminated string literal (detected at line 1) (1388669969.py, line 1)",
     "output_type": "error",
     "traceback": [
      "\u001b[0;36m  Cell \u001b[0;32mIn[13], line 1\u001b[0;36m\u001b[0m\n\u001b[0;31m    strng = 'domino's'\u001b[0m\n\u001b[0m                     ^\u001b[0m\n\u001b[0;31mSyntaxError\u001b[0m\u001b[0;31m:\u001b[0m unterminated string literal (detected at line 1)\n"
     ]
    }
   ],
   "source": [
    "strng = 'domino's'"
   ]
  },
  {
   "cell_type": "code",
   "execution_count": 15,
   "id": "9d67a9c5-528f-40f5-9f20-8bdf6b8430e0",
   "metadata": {},
   "outputs": [
    {
     "name": "stdout",
     "output_type": "stream",
     "text": [
      "domino's\n"
     ]
    }
   ],
   "source": [
    "strng = \"domino's\"\n",
    "print(strng)"
   ]
  },
  {
   "cell_type": "code",
   "execution_count": 16,
   "id": "07d4572c-9d65-43f6-8ef2-bce9ea9c0fd2",
   "metadata": {},
   "outputs": [
    {
     "name": "stdout",
     "output_type": "stream",
     "text": [
      "\n",
      "This is mutiple\n",
      "strng created using \n",
      "tripe quotes.\n",
      "\n"
     ]
    }
   ],
   "source": [
    "multi_str = '''\n",
    "This is mutiple\n",
    "strng created using \n",
    "tripe quotes.\n",
    "'''\n",
    "\n",
    "print(multi_str)"
   ]
  },
  {
   "cell_type": "code",
   "execution_count": 18,
   "id": "162b2039-cc0d-48db-8e80-b7e30fe9aa87",
   "metadata": {},
   "outputs": [
    {
     "name": "stdout",
     "output_type": "stream",
     "text": [
      "This is mutiple\n",
      "strng created using\n",
      "tripe quotes.\n"
     ]
    }
   ],
   "source": [
    "multi_str_new = 'This is mutiple\\nstrng created using\\ntripe quotes.'\n",
    "print(multi_str_new)"
   ]
  },
  {
   "cell_type": "markdown",
   "id": "d58fe44b-43cc-4fe4-9dd3-90f96ca66429",
   "metadata": {},
   "source": [
    "## Converting int to string"
   ]
  },
  {
   "cell_type": "code",
   "execution_count": 19,
   "id": "50315898-b788-4770-a542-1e5f73412139",
   "metadata": {},
   "outputs": [
    {
     "data": {
      "text/plain": [
       "int"
      ]
     },
     "execution_count": 19,
     "metadata": {},
     "output_type": "execute_result"
    }
   ],
   "source": [
    "age = 42\n",
    "\n",
    "type(age)"
   ]
  },
  {
   "cell_type": "code",
   "execution_count": 20,
   "id": "baaade2c-dbb1-4e69-a111-a9c293c30de1",
   "metadata": {},
   "outputs": [
    {
     "data": {
      "text/plain": [
       "str"
      ]
     },
     "execution_count": 20,
     "metadata": {},
     "output_type": "execute_result"
    }
   ],
   "source": [
    "string_age = str(age)\n",
    "\n",
    "type(string_age)"
   ]
  },
  {
   "cell_type": "markdown",
   "id": "67110b17-395d-46b1-b739-2473e1c85621",
   "metadata": {},
   "source": [
    "## Indexing and slicing string"
   ]
  },
  {
   "cell_type": "code",
   "execution_count": 24,
   "id": "7a8600f2-53ea-4f79-8a2a-443ff57ba3ce",
   "metadata": {},
   "outputs": [
    {
     "name": "stdout",
     "output_type": "stream",
     "text": [
      "2\n"
     ]
    }
   ],
   "source": [
    "print(string_age[-1])"
   ]
  },
  {
   "cell_type": "markdown",
   "id": "80952a4f-1811-475b-aea2-3e598ac2354e",
   "metadata": {},
   "source": [
    "## Slicing\n",
    "\n",
    "string[start:end:step]"
   ]
  },
  {
   "cell_type": "code",
   "execution_count": 33,
   "id": "5e53b4d4-bb02-4be4-9794-a02fc3d18e22",
   "metadata": {},
   "outputs": [
    {
     "data": {
      "text/plain": [
       "'ython Programmin'"
      ]
     },
     "execution_count": 33,
     "metadata": {},
     "output_type": "execute_result"
    }
   ],
   "source": [
    "#my_string[start:end:step]\n",
    "\n",
    "my_String = \"Python Programming\"\n",
    "\n",
    "my_String[1:3:2]\n",
    "my_String[1:-1]"
   ]
  },
  {
   "cell_type": "code",
   "execution_count": 34,
   "id": "ac0a5781-888c-4dda-9d95-9e6c1ed51242",
   "metadata": {},
   "outputs": [
    {
     "data": {
      "text/plain": [
       "'gnimmargorP nohtyP'"
      ]
     },
     "execution_count": 34,
     "metadata": {},
     "output_type": "execute_result"
    }
   ],
   "source": [
    "my_String[::-1] #Reverse String"
   ]
  },
  {
   "cell_type": "code",
   "execution_count": 35,
   "id": "8a24854e-bc66-4604-9bc7-1a9f882b5664",
   "metadata": {},
   "outputs": [
    {
     "data": {
      "text/plain": [
       "'gimroPnhy'"
      ]
     },
     "execution_count": 35,
     "metadata": {},
     "output_type": "execute_result"
    }
   ],
   "source": [
    "my_String[::-2] #Reverse String + every 2nd string"
   ]
  },
  {
   "cell_type": "markdown",
   "id": "661a1aa6-cfef-4d94-8c89-2fa352e59154",
   "metadata": {},
   "source": [
    "## Quiz\n",
    "\n",
    "Extract 'EDCBA' from the string 'AXBXCXDXE'"
   ]
  },
  {
   "cell_type": "code",
   "execution_count": 37,
   "id": "4a6014c3-00af-4665-9a45-539027ebbd1e",
   "metadata": {},
   "outputs": [
    {
     "data": {
      "text/plain": [
       "'EDCBA'"
      ]
     },
     "execution_count": 37,
     "metadata": {},
     "output_type": "execute_result"
    }
   ],
   "source": [
    "myString = 'AXBXCXDXE'\n",
    "\n",
    "myString[::-2]"
   ]
  },
  {
   "cell_type": "markdown",
   "id": "fcc31734-ce6a-438d-ba08-58fb9ddf407b",
   "metadata": {},
   "source": [
    "## Operations on stirngs - getting information about string"
   ]
  },
  {
   "cell_type": "code",
   "execution_count": 38,
   "id": "4451540f-8248-4908-b7ad-6c33f15fd366",
   "metadata": {},
   "outputs": [
    {
     "data": {
      "text/plain": [
       "9"
      ]
     },
     "execution_count": 38,
     "metadata": {},
     "output_type": "execute_result"
    }
   ],
   "source": [
    "len(myString)"
   ]
  },
  {
   "cell_type": "markdown",
   "id": "338fef49-8af4-4315-9a3e-b11812fcbdb4",
   "metadata": {},
   "source": [
    "## IN operator"
   ]
  },
  {
   "cell_type": "code",
   "execution_count": 40,
   "id": "ad17a1b3-5a29-420c-beee-02a287835154",
   "metadata": {},
   "outputs": [
    {
     "data": {
      "text/plain": [
       "True"
      ]
     },
     "execution_count": 40,
     "metadata": {},
     "output_type": "execute_result"
    }
   ],
   "source": [
    "'A' in myString"
   ]
  },
  {
   "cell_type": "code",
   "execution_count": 42,
   "id": "75a62bdd-41de-45a2-a3e6-f243cb8bebba",
   "metadata": {},
   "outputs": [
    {
     "data": {
      "text/plain": [
       "False"
      ]
     },
     "execution_count": 42,
     "metadata": {},
     "output_type": "execute_result"
    }
   ],
   "source": [
    "'A' not in myString"
   ]
  },
  {
   "cell_type": "code",
   "execution_count": 41,
   "id": "6f7021b6-e803-4893-970b-857cbb53a31e",
   "metadata": {},
   "outputs": [
    {
     "data": {
      "text/plain": [
       "False"
      ]
     },
     "execution_count": 41,
     "metadata": {},
     "output_type": "execute_result"
    }
   ],
   "source": [
    "'O' in myString"
   ]
  },
  {
   "cell_type": "code",
   "execution_count": 43,
   "id": "12b2f50e-942a-4b3e-a60c-b32052303a5f",
   "metadata": {},
   "outputs": [
    {
     "data": {
      "text/plain": [
       "True"
      ]
     },
     "execution_count": 43,
     "metadata": {},
     "output_type": "execute_result"
    }
   ],
   "source": [
    "'O' not in myString"
   ]
  },
  {
   "cell_type": "code",
   "execution_count": 44,
   "id": "6652ccd8-770f-47ae-8c7e-52a9e907d945",
   "metadata": {},
   "outputs": [
    {
     "data": {
      "text/plain": [
       "True"
      ]
     },
     "execution_count": 44,
     "metadata": {},
     "output_type": "execute_result"
    }
   ],
   "source": [
    "'A' in myString and 'C' in myString"
   ]
  },
  {
   "cell_type": "markdown",
   "id": "d0aba610-51f8-4bb6-b60a-b7f872844dc7",
   "metadata": {},
   "source": [
    "## Finding the index of any character in a string .index() or .find()"
   ]
  },
  {
   "cell_type": "code",
   "execution_count": 47,
   "id": "79eb7fc4-0deb-4ae6-9f9e-9b19213826d3",
   "metadata": {},
   "outputs": [
    {
     "data": {
      "text/plain": [
       "1"
      ]
     },
     "execution_count": 47,
     "metadata": {},
     "output_type": "execute_result"
    }
   ],
   "source": [
    "myString.index('X')"
   ]
  },
  {
   "cell_type": "code",
   "execution_count": 50,
   "id": "21879743-ee03-4c74-b003-1590e1e22d19",
   "metadata": {},
   "outputs": [
    {
     "ename": "ValueError",
     "evalue": "substring not found",
     "output_type": "error",
     "traceback": [
      "\u001b[0;31m---------------------------------------------------------------------------\u001b[0m",
      "\u001b[0;31mValueError\u001b[0m                                Traceback (most recent call last)",
      "Cell \u001b[0;32mIn[50], line 1\u001b[0m\n\u001b[0;32m----> 1\u001b[0m myString\u001b[38;5;241m.\u001b[39mindex(\u001b[38;5;124m'\u001b[39m\u001b[38;5;124mDXEa\u001b[39m\u001b[38;5;124m'\u001b[39m)\n",
      "\u001b[0;31mValueError\u001b[0m: substring not found"
     ]
    }
   ],
   "source": [
    "myString.index('DXEa')"
   ]
  },
  {
   "cell_type": "code",
   "execution_count": 51,
   "id": "abb0d22d-0247-4d99-b4db-a5d65501a4b6",
   "metadata": {},
   "outputs": [
    {
     "data": {
      "text/plain": [
       "6"
      ]
     },
     "execution_count": 51,
     "metadata": {},
     "output_type": "execute_result"
    }
   ],
   "source": [
    "myString.index('DXE')"
   ]
  },
  {
   "cell_type": "code",
   "execution_count": 54,
   "id": "d08e1173-eca8-4b17-a8de-9e6723522ecd",
   "metadata": {},
   "outputs": [
    {
     "data": {
      "text/plain": [
       "-1"
      ]
     },
     "execution_count": 54,
     "metadata": {},
     "output_type": "execute_result"
    }
   ],
   "source": [
    "myString.find('Da')"
   ]
  },
  {
   "cell_type": "code",
   "execution_count": 56,
   "id": "ba7a15f8-9cbc-43d8-86ef-f43d56c7f2f8",
   "metadata": {},
   "outputs": [
    {
     "data": {
      "text/plain": [
       "4"
      ]
     },
     "execution_count": 56,
     "metadata": {},
     "output_type": "execute_result"
    }
   ],
   "source": [
    "myString.count('X')"
   ]
  },
  {
   "cell_type": "markdown",
   "id": "34da65f8-5e84-49e2-acca-924f4d766020",
   "metadata": {},
   "source": [
    "## ASCII"
   ]
  },
  {
   "cell_type": "code",
   "execution_count": 57,
   "id": "481daf93-cbcb-4b62-a097-da09316acd1c",
   "metadata": {},
   "outputs": [
    {
     "data": {
      "text/plain": [
       "97"
      ]
     },
     "execution_count": 57,
     "metadata": {},
     "output_type": "execute_result"
    }
   ],
   "source": [
    "ord('a')"
   ]
  },
  {
   "cell_type": "code",
   "execution_count": 58,
   "id": "23c3f00a-0183-458d-a3c2-1d0ac8c4ea09",
   "metadata": {},
   "outputs": [
    {
     "data": {
      "text/plain": [
       "65"
      ]
     },
     "execution_count": 58,
     "metadata": {},
     "output_type": "execute_result"
    }
   ],
   "source": [
    "ord('A')"
   ]
  },
  {
   "cell_type": "code",
   "execution_count": 61,
   "id": "cc76672b-812d-4951-8f95-897d1c736542",
   "metadata": {},
   "outputs": [
    {
     "data": {
      "text/plain": [
       "True"
      ]
     },
     "execution_count": 61,
     "metadata": {},
     "output_type": "execute_result"
    }
   ],
   "source": [
    "ord('a') < ord('b')"
   ]
  },
  {
   "cell_type": "code",
   "execution_count": 60,
   "id": "4203305f-0b54-4d1b-9333-d6b4725501ac",
   "metadata": {},
   "outputs": [
    {
     "data": {
      "text/plain": [
       "True"
      ]
     },
     "execution_count": 60,
     "metadata": {},
     "output_type": "execute_result"
    }
   ],
   "source": [
    "'a' < 'b'"
   ]
  },
  {
   "cell_type": "code",
   "execution_count": 62,
   "id": "c640075c-b5bf-461f-b394-0589a8bb019c",
   "metadata": {},
   "outputs": [
    {
     "data": {
      "text/plain": [
       "True"
      ]
     },
     "execution_count": 62,
     "metadata": {},
     "output_type": "execute_result"
    }
   ],
   "source": [
    "'python' > 'matlab'"
   ]
  },
  {
   "cell_type": "markdown",
   "id": "2e5099f9-e607-4bb8-9c3f-2a98f375741f",
   "metadata": {},
   "source": [
    "## Manipulation on String"
   ]
  },
  {
   "cell_type": "code",
   "execution_count": 64,
   "id": "cff5f961-be07-4d5c-9639-bff1e895d37e",
   "metadata": {},
   "outputs": [
    {
     "data": {
      "text/plain": [
       "'gaddamprabhat'"
      ]
     },
     "execution_count": 64,
     "metadata": {},
     "output_type": "execute_result"
    }
   ],
   "source": [
    "firstName = 'gaddam'\n",
    "lastname = 'prabhat'\n",
    "\n",
    "firstName + lastname"
   ]
  },
  {
   "cell_type": "code",
   "execution_count": 65,
   "id": "1c4e1aae-0192-44b5-8cb2-25a436adcb39",
   "metadata": {},
   "outputs": [
    {
     "data": {
      "text/plain": [
       "'gaddam prabhat'"
      ]
     },
     "execution_count": 65,
     "metadata": {},
     "output_type": "execute_result"
    }
   ],
   "source": [
    "firstName + \" \" + lastname"
   ]
  },
  {
   "cell_type": "code",
   "execution_count": 66,
   "id": "c8c0b0ee-0a3c-41b9-99f5-4164ff7bf25e",
   "metadata": {},
   "outputs": [
    {
     "data": {
      "text/plain": [
       "'gaddam'"
      ]
     },
     "execution_count": 66,
     "metadata": {},
     "output_type": "execute_result"
    }
   ],
   "source": [
    "firstName.lower()"
   ]
  },
  {
   "cell_type": "code",
   "execution_count": 67,
   "id": "30e4a409-f11f-44d9-9b93-d58acb48ce0c",
   "metadata": {},
   "outputs": [
    {
     "data": {
      "text/plain": [
       "'GADDAM'"
      ]
     },
     "execution_count": 67,
     "metadata": {},
     "output_type": "execute_result"
    }
   ],
   "source": [
    "firstName.upper()"
   ]
  },
  {
   "cell_type": "code",
   "execution_count": 71,
   "id": "34d426ca-a79f-4913-8ebd-5d33cb9ff61c",
   "metadata": {},
   "outputs": [
    {
     "data": {
      "text/plain": [
       "'Gaddam prabhat'"
      ]
     },
     "execution_count": 71,
     "metadata": {},
     "output_type": "execute_result"
    }
   ],
   "source": [
    "combine = firstName +\" \"+ lastname\n",
    "combine.capitalize()"
   ]
  },
  {
   "cell_type": "code",
   "execution_count": 72,
   "id": "bf2ee699-6c5d-4f2f-b3c8-9c6d8474edc7",
   "metadata": {},
   "outputs": [
    {
     "data": {
      "text/plain": [
       "'Gaddam Prabhat'"
      ]
     },
     "execution_count": 72,
     "metadata": {},
     "output_type": "execute_result"
    }
   ],
   "source": [
    "combine.title()"
   ]
  },
  {
   "cell_type": "markdown",
   "id": "d4bd6c47-3811-4db9-b07f-88f4f45652e1",
   "metadata": {},
   "source": [
    "## Removing Space"
   ]
  },
  {
   "cell_type": "code",
   "execution_count": 73,
   "id": "d17ae2bb-a397-4932-a473-9dfa05bdda6a",
   "metadata": {},
   "outputs": [
    {
     "data": {
      "text/plain": [
       "'prabhat.  '"
      ]
     },
     "execution_count": 73,
     "metadata": {},
     "output_type": "execute_result"
    }
   ],
   "source": [
    "mySpaceString = '   prabhat.  '\n",
    "mySpaceString.lstrip()"
   ]
  },
  {
   "cell_type": "code",
   "execution_count": 74,
   "id": "13ee08cb-0746-405e-80dc-78735403a8fb",
   "metadata": {},
   "outputs": [
    {
     "data": {
      "text/plain": [
       "'   prabhat.'"
      ]
     },
     "execution_count": 74,
     "metadata": {},
     "output_type": "execute_result"
    }
   ],
   "source": [
    "mySpaceString.rstrip()"
   ]
  },
  {
   "cell_type": "code",
   "execution_count": 75,
   "id": "c59028da-8872-4809-9c5a-787117af19d6",
   "metadata": {},
   "outputs": [
    {
     "data": {
      "text/plain": [
       "'prabhat.'"
      ]
     },
     "execution_count": 75,
     "metadata": {},
     "output_type": "execute_result"
    }
   ],
   "source": [
    "mySpaceString.strip()"
   ]
  },
  {
   "cell_type": "markdown",
   "id": "925414a5-b113-4ad7-bbdc-a6a77df54edd",
   "metadata": {},
   "source": [
    "## Replaceing the subString"
   ]
  },
  {
   "cell_type": "code",
   "execution_count": 79,
   "id": "8092452a-535f-44cc-b270-eb77193abf4b",
   "metadata": {},
   "outputs": [],
   "source": [
    "mySubSteing = \"I find pythin programing verfy intersting\""
   ]
  },
  {
   "cell_type": "code",
   "execution_count": 77,
   "id": "cb21b24c-c7e0-4585-9e6e-ac06b559b0d6",
   "metadata": {},
   "outputs": [
    {
     "data": {
      "text/plain": [
       "'i find pythin programing verfy intersting'"
      ]
     },
     "execution_count": 77,
     "metadata": {},
     "output_type": "execute_result"
    }
   ],
   "source": [
    "mySubSteing"
   ]
  },
  {
   "cell_type": "code",
   "execution_count": 80,
   "id": "754a66f0-71f0-46db-b14c-31390ce894fd",
   "metadata": {},
   "outputs": [
    {
     "data": {
      "text/plain": [
       "'we find pythin programing verfy intersting'"
      ]
     },
     "execution_count": 80,
     "metadata": {},
     "output_type": "execute_result"
    }
   ],
   "source": [
    "mySubSteing.replace('I','we')"
   ]
  },
  {
   "cell_type": "markdown",
   "id": "3d342d82-7f9a-439a-8d24-14679b0b2383",
   "metadata": {},
   "source": [
    "## Quiz\n",
    "Find the length of the string 'python programming is fun!' and count the occurrences of 'n' in the string."
   ]
  },
  {
   "cell_type": "code",
   "execution_count": 82,
   "id": "d0226fa4-88db-4c76-af94-e8f0d1346c7e",
   "metadata": {},
   "outputs": [],
   "source": [
    "myQuzStr = 'python programming is fun!'"
   ]
  },
  {
   "cell_type": "code",
   "execution_count": 83,
   "id": "cdb5cdb5-a862-4256-a568-3ff6d84fc5ec",
   "metadata": {},
   "outputs": [
    {
     "data": {
      "text/plain": [
       "26"
      ]
     },
     "execution_count": 83,
     "metadata": {},
     "output_type": "execute_result"
    }
   ],
   "source": [
    "len(myQuzStr)"
   ]
  },
  {
   "cell_type": "code",
   "execution_count": 85,
   "id": "582afa70-c605-485b-a401-a56b9bbad8a8",
   "metadata": {},
   "outputs": [
    {
     "data": {
      "text/plain": [
       "3"
      ]
     },
     "execution_count": 85,
     "metadata": {},
     "output_type": "execute_result"
    }
   ],
   "source": [
    "myQuzStr.count('n')"
   ]
  }
 ],
 "metadata": {
  "kernelspec": {
   "display_name": "Python [conda env:base] *",
   "language": "python",
   "name": "conda-base-py"
  },
  "language_info": {
   "codemirror_mode": {
    "name": "ipython",
    "version": 3
   },
   "file_extension": ".py",
   "mimetype": "text/x-python",
   "name": "python",
   "nbconvert_exporter": "python",
   "pygments_lexer": "ipython3",
   "version": "3.13.5"
  }
 },
 "nbformat": 4,
 "nbformat_minor": 5
}
