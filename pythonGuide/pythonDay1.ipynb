{
 "cells": [
  {
   "cell_type": "code",
   "execution_count": 3,
   "id": "73f5ff33-9b90-4113-96c7-d314ef5b3102",
   "metadata": {},
   "outputs": [
    {
     "name": "stdout",
     "output_type": "stream",
     "text": [
      "Welcome to python community\n"
     ]
    }
   ],
   "source": [
    "print(\"Welcome to python community\")"
   ]
  },
  {
   "cell_type": "markdown",
   "id": "c974521f-0adc-48bc-9732-3b64c3647c56",
   "metadata": {},
   "source": [
    "## Structures of python"
   ]
  },
  {
   "cell_type": "markdown",
   "id": "21bc2a5f-32f9-4867-9f2f-3bdbce13c737",
   "metadata": {},
   "source": [
    "### Tokens are smalles units in python like constant, variable, operator etc."
   ]
  },
  {
   "cell_type": "code",
   "execution_count": 6,
   "id": "659dfada-bda4-44b9-8ebc-40b26c1ea50f",
   "metadata": {},
   "outputs": [
    {
     "name": "stdout",
     "output_type": "stream",
     "text": [
      "python keywords ['False', 'None', 'True', 'and', 'as', 'assert', 'async', 'await', 'break', 'class', 'continue', 'def', 'del', 'elif', 'else', 'except', 'finally', 'for', 'from', 'global', 'if', 'import', 'in', 'is', 'lambda', 'nonlocal', 'not', 'or', 'pass', 'raise', 'return', 'try', 'while', 'with', 'yield']\n"
     ]
    }
   ],
   "source": [
    "import keyword\n",
    "print(\"python keywords\",keyword.kwlist)"
   ]
  },
  {
   "cell_type": "markdown",
   "id": "602e9368-c885-4e2b-9e77-b5603d126820",
   "metadata": {},
   "source": [
    "### variables and identifiers are same"
   ]
  },
  {
   "cell_type": "code",
   "execution_count": null,
   "id": "d1653b82-9474-433a-9b40-08b1ea40fafd",
   "metadata": {},
   "outputs": [],
   "source": [
    "valid_identifier1 = \"EmployeeName\"\n",
    "valid_identifier2 = \"_salary\"\n",
    "valid_identifier3 = \"totalRevenue2023\""
   ]
  },
  {
   "cell_type": "code",
   "execution_count": null,
   "id": "c8e89b3c-bb78-47b5-ae75-cdff138cef10",
   "metadata": {},
   "outputs": [],
   "source": [
    "invalid_identifier1 = \"2names\"\n",
    "invalid_identifier2 = \"class\""
   ]
  },
  {
   "cell_type": "markdown",
   "id": "649e0cb8-ef24-4aba-847e-88f3cbe157a4",
   "metadata": {},
   "source": [
    "## valid identifier Rules"
   ]
  },
  {
   "cell_type": "markdown",
   "id": "fc0d1e98-25d8-438e-841f-6d8acca3a6b8",
   "metadata": {},
   "source": [
    "1. Must Start with a letter or underscore(_)"
   ]
  },
  {
   "cell_type": "markdown",
   "id": "c4b8af34-60ae-44aa-a6f2-a9157b92ff3e",
   "metadata": {},
   "source": [
    "2. Can contain Letters(A-Z, a-z),Digits (0-9), and Underscrores(_)"
   ]
  },
  {
   "cell_type": "markdown",
   "id": "bf782592-d3ce-4de3-86bb-eb70a71a4524",
   "metadata": {},
   "source": [
    "3. Cannot Be a python Keyword (Reserved Word)"
   ]
  },
  {
   "cell_type": "markdown",
   "id": "da3b1868-dc6d-452e-a382-457e568d79bb",
   "metadata": {},
   "source": [
    "4. Case sensitive"
   ]
  },
  {
   "cell_type": "markdown",
   "id": "cb195c99-63e6-4392-ad56-eeca74274462",
   "metadata": {},
   "source": [
    "5. No space Allowed"
   ]
  },
  {
   "cell_type": "markdown",
   "id": "f52ae49a-999f-4388-ba9f-e2626c19c120",
   "metadata": {},
   "source": [
    "### Variables and Data types"
   ]
  },
  {
   "cell_type": "code",
   "execution_count": 8,
   "id": "a2d72987-2cd5-4c00-baf1-e830cbaa263e",
   "metadata": {},
   "outputs": [],
   "source": [
    "sales_count = 500 # Integer\n",
    "discount = 200.50 # Float\n",
    "product_name = \"Laptop\" # String\n",
    "is_available = True"
   ]
  },
  {
   "cell_type": "code",
   "execution_count": 9,
   "id": "72dc2a8b-b73a-40b8-a15e-e4b1fca0c796",
   "metadata": {},
   "outputs": [
    {
     "data": {
      "text/plain": [
       "bool"
      ]
     },
     "execution_count": 9,
     "metadata": {},
     "output_type": "execute_result"
    }
   ],
   "source": [
    "type(is_available)"
   ]
  },
  {
   "cell_type": "code",
   "execution_count": 11,
   "id": "1837a7fb-c0f6-4ae5-9ba2-55e9d9d36c3e",
   "metadata": {},
   "outputs": [
    {
     "name": "stdout",
     "output_type": "stream",
     "text": [
      "<class 'bool'> <class 'int'> <class 'float'> <class 'str'>\n"
     ]
    }
   ],
   "source": [
    "print(type(is_available),type(sales_count),type(discount),type(product_name))"
   ]
  },
  {
   "cell_type": "markdown",
   "id": "64f9e2a6-2195-440b-b38a-2d18ba96baed",
   "metadata": {},
   "source": [
    "### Pyhton Operators"
   ]
  },
  {
   "cell_type": "markdown",
   "id": "5b7959de-b7f3-438b-bd1d-e764a797b2ee",
   "metadata": {},
   "source": [
    "#### addition"
   ]
  },
  {
   "cell_type": "code",
   "execution_count": 12,
   "id": "2b7c00b7-f560-4a2c-bc4d-65ac7c7f4692",
   "metadata": {},
   "outputs": [
    {
     "name": "stdout",
     "output_type": "stream",
     "text": [
      "Addition Amount 350\n"
     ]
    }
   ],
   "source": [
    "total = 150 +200\n",
    "print(\"Addition Amount\",total)"
   ]
  },
  {
   "cell_type": "markdown",
   "id": "af50a097-9a2c-44bb-a7b7-41aa1a5ff713",
   "metadata": {},
   "source": [
    "#### subtraction"
   ]
  },
  {
   "cell_type": "code",
   "execution_count": 14,
   "id": "775e7d16-c2f3-410b-b9e6-08b037164adb",
   "metadata": {},
   "outputs": [
    {
     "name": "stdout",
     "output_type": "stream",
     "text": [
      "Subtraction Amount -50\n"
     ]
    }
   ],
   "source": [
    "total = 150 - 200\n",
    "print(\"Subtraction Amount\",total)"
   ]
  },
  {
   "cell_type": "markdown",
   "id": "f606e3e3-fa83-49ee-b7dd-5e9a5e1be9ee",
   "metadata": {},
   "source": [
    "#### Multiplication"
   ]
  },
  {
   "cell_type": "code",
   "execution_count": 15,
   "id": "2b8afc48-5c1e-4735-8a28-e582be53920b",
   "metadata": {},
   "outputs": [
    {
     "name": "stdout",
     "output_type": "stream",
     "text": [
      "Multiplication Amount 30000\n"
     ]
    }
   ],
   "source": [
    "total = 150 * 200\n",
    "print(\"Multiplication Amount\",total)"
   ]
  },
  {
   "cell_type": "markdown",
   "id": "7c25eae4-e072-40e1-892d-a6a35dbfbd4a",
   "metadata": {},
   "source": [
    "#### division"
   ]
  },
  {
   "cell_type": "code",
   "execution_count": 19,
   "id": "40a5c9e7-d8d6-4927-991e-f53d2c6f9146",
   "metadata": {},
   "outputs": [
    {
     "name": "stdout",
     "output_type": "stream",
     "text": [
      "Multiplication Amount 2.272727272727273\n"
     ]
    }
   ],
   "source": [
    "total = 100 / 44\n",
    "print(\"Multiplication Amount\",total)"
   ]
  },
  {
   "cell_type": "markdown",
   "id": "eaccda71-d5ac-4684-bd40-63061f1fbbaf",
   "metadata": {},
   "source": [
    "#### Floor Division (//)"
   ]
  },
  {
   "cell_type": "code",
   "execution_count": 20,
   "id": "ee93daba-cf2f-444a-930d-1352855e46d7",
   "metadata": {},
   "outputs": [
    {
     "name": "stdout",
     "output_type": "stream",
     "text": [
      "Full Boxed 3\n"
     ]
    }
   ],
   "source": [
    "boxes = 17 // 5\n",
    "print('Full Boxed', boxes)"
   ]
  },
  {
   "cell_type": "markdown",
   "id": "c972e6f6-5cfd-48d1-9936-e097e2649060",
   "metadata": {},
   "source": [
    "#### Modulus (%) always works as reminder"
   ]
  },
  {
   "cell_type": "code",
   "execution_count": 21,
   "id": "3e537bcd-f1e5-43e3-88d2-ef9251934843",
   "metadata": {},
   "outputs": [
    {
     "name": "stdout",
     "output_type": "stream",
     "text": [
      "Full Boxed 2\n"
     ]
    }
   ],
   "source": [
    "boxes = 17 % 5\n",
    "print('Full Boxed', boxes)"
   ]
  },
  {
   "cell_type": "markdown",
   "id": "75d9b338-9923-44f8-904f-4d58f7fe27bc",
   "metadata": {},
   "source": [
    "#### Exponentiation (**) "
   ]
  },
  {
   "cell_type": "code",
   "execution_count": 23,
   "id": "779992ab-7457-4f85-8197-0dc8bd7241c9",
   "metadata": {},
   "outputs": [
    {
     "name": "stdout",
     "output_type": "stream",
     "text": [
      "8\n"
     ]
    }
   ],
   "source": [
    "compund = 2**3\n",
    "print(compund)"
   ]
  },
  {
   "cell_type": "code",
   "execution_count": 27,
   "id": "6c6e4542-094d-417b-8748-95cd644e5c54",
   "metadata": {},
   "outputs": [],
   "source": [
    "item1_price, item1_quantity = 40,2\n",
    "item2_price, item2_quantity = 30,3"
   ]
  },
  {
   "cell_type": "code",
   "execution_count": 28,
   "id": "badf605d-f179-4ab7-a537-cbace2076701",
   "metadata": {},
   "outputs": [],
   "source": [
    "item1_total = item1_price * item1_quantity\n",
    "item2_total = item2_price * item2_quantity"
   ]
  },
  {
   "cell_type": "code",
   "execution_count": 29,
   "id": "3be7361e-9e5e-43ae-ac4d-8dda3e2fced9",
   "metadata": {},
   "outputs": [],
   "source": [
    "subtotal = item1_total + item2_total"
   ]
  },
  {
   "cell_type": "code",
   "execution_count": 36,
   "id": "daa6aa1c-54b8-4dee-96d3-7d30779aa9eb",
   "metadata": {},
   "outputs": [],
   "source": [
    "discount1 = 20\n",
    "final_total = subtotal - discount1"
   ]
  },
  {
   "cell_type": "code",
   "execution_count": 35,
   "id": "e3254055-6795-4dc1-85ed-5ea97d7087ba",
   "metadata": {},
   "outputs": [
    {
     "name": "stdout",
     "output_type": "stream",
     "text": [
      "subtotal:  170\n"
     ]
    },
    {
     "ename": "NameError",
     "evalue": "name 'discount1' is not defined",
     "output_type": "error",
     "traceback": [
      "\u001b[31m---------------------------------------------------------------------------\u001b[39m",
      "\u001b[31mNameError\u001b[39m                                 Traceback (most recent call last)",
      "\u001b[36mCell\u001b[39m\u001b[36m \u001b[39m\u001b[32mIn[35]\u001b[39m\u001b[32m, line 2\u001b[39m\n\u001b[32m      1\u001b[39m \u001b[38;5;28mprint\u001b[39m(\u001b[33m\"\u001b[39m\u001b[33msubtotal: \u001b[39m\u001b[33m\"\u001b[39m, subtotal)\n\u001b[32m----> \u001b[39m\u001b[32m2\u001b[39m \u001b[38;5;28mprint\u001b[39m(\u001b[33m\"\u001b[39m\u001b[33mDiscount: \u001b[39m\u001b[33m\"\u001b[39m, discount1)\n\u001b[32m      3\u001b[39m \u001b[38;5;28mprint\u001b[39m(\u001b[33m\"\u001b[39m\u001b[33mFinal total bill: \u001b[39m\u001b[33m\"\u001b[39m, final_total)\n",
      "\u001b[31mNameError\u001b[39m: name 'discount1' is not defined"
     ]
    }
   ],
   "source": [
    "print(\"subtotal: \", subtotal)\n",
    "print(\"Discount: \", discount1)\n",
    "print(\"Final total bill: \", final_total)"
   ]
  },
  {
   "cell_type": "markdown",
   "id": "7d6e2fff-32af-4cab-94a9-b3b99f88249b",
   "metadata": {},
   "source": [
    "### comparator"
   ]
  },
  {
   "cell_type": "code",
   "execution_count": 37,
   "id": "d6e6fc47-f9f5-4c2a-8da2-9e38fc3a5a48",
   "metadata": {},
   "outputs": [
    {
     "name": "stdout",
     "output_type": "stream",
     "text": [
      "pass marks==75 True\n"
     ]
    }
   ],
   "source": [
    "marks = 75\n",
    "print('pass marks==75', marks == 75)"
   ]
  },
  {
   "cell_type": "code",
   "execution_count": 38,
   "id": "13a530aa-4712-4b7c-aa52-25bb700ea0b3",
   "metadata": {},
   "outputs": [
    {
     "name": "stdout",
     "output_type": "stream",
     "text": [
      "pass marks==75 False\n"
     ]
    }
   ],
   "source": [
    "print('pass marks==75', marks != 75)"
   ]
  },
  {
   "cell_type": "code",
   "execution_count": 39,
   "id": "99e53955-4ca4-4d24-8c1f-e80153ab5ec1",
   "metadata": {},
   "outputs": [
    {
     "name": "stdout",
     "output_type": "stream",
     "text": [
      "pass marks==75 False\n"
     ]
    }
   ],
   "source": [
    "print('pass marks==75', marks > 75)"
   ]
  },
  {
   "cell_type": "code",
   "execution_count": 40,
   "id": "26a80131-1774-4bd5-97c5-4348972f66d8",
   "metadata": {},
   "outputs": [
    {
     "name": "stdout",
     "output_type": "stream",
     "text": [
      "pass marks==75 True\n"
     ]
    }
   ],
   "source": [
    "print('pass marks==75', marks >= 75)"
   ]
  },
  {
   "cell_type": "code",
   "execution_count": 41,
   "id": "e886758d-4f44-4fd7-9dfe-b965f4a59ea4",
   "metadata": {},
   "outputs": [
    {
     "name": "stdout",
     "output_type": "stream",
     "text": [
      "pass marks==75 True\n"
     ]
    }
   ],
   "source": [
    "print('pass marks==75', marks <= 75)"
   ]
  },
  {
   "cell_type": "markdown",
   "id": "8253c379-3242-45ad-98dc-acf44606c98e",
   "metadata": {},
   "source": [
    "### Logical Operator"
   ]
  },
  {
   "cell_type": "code",
   "execution_count": 42,
   "id": "57ed576e-27c0-4594-90b0-082dd00ad637",
   "metadata": {},
   "outputs": [
    {
     "name": "stdout",
     "output_type": "stream",
     "text": [
      "crictical True\n"
     ]
    }
   ],
   "source": [
    "bp = 135\n",
    "sugar = 180\n",
    "print('crictical',bp > 130 and sugar > 150)"
   ]
  },
  {
   "cell_type": "code",
   "execution_count": 45,
   "id": "66e83c0b-4ad0-45f1-9842-257694579bb0",
   "metadata": {},
   "outputs": [
    {
     "name": "stdout",
     "output_type": "stream",
     "text": [
      "crictical True\n"
     ]
    }
   ],
   "source": [
    "bp = 135\n",
    "sugar = 180\n",
    "print('crictical',bp < 130 or sugar > 150)"
   ]
  },
  {
   "cell_type": "code",
   "execution_count": 49,
   "id": "c1b51f7f-0705-40fa-8e83-9454c1a050e1",
   "metadata": {},
   "outputs": [
    {
     "name": "stdout",
     "output_type": "stream",
     "text": [
      "crictical True\n"
     ]
    }
   ],
   "source": [
    "bp = 135\n",
    "sugar = 180\n",
    "print('crictical',not bp > 130 or sugar > 150)"
   ]
  },
  {
   "cell_type": "markdown",
   "id": "35e76c61-0d8c-4d87-b27b-070b56ae9583",
   "metadata": {},
   "source": [
    "#### Assigment operator"
   ]
  },
  {
   "cell_type": "code",
   "execution_count": 50,
   "id": "6ce11b11-029b-419d-a3ff-45e25bc03227",
   "metadata": {},
   "outputs": [
    {
     "name": "stdout",
     "output_type": "stream",
     "text": [
      "120\n"
     ]
    }
   ],
   "source": [
    "stock = 100\n",
    "stock += 20\n",
    "print(stock)"
   ]
  },
  {
   "cell_type": "code",
   "execution_count": 51,
   "id": "ed4bf27d-470d-41c0-b0f7-21677355c575",
   "metadata": {},
   "outputs": [
    {
     "name": "stdout",
     "output_type": "stream",
     "text": [
      "80\n"
     ]
    }
   ],
   "source": [
    "stock = 100\n",
    "stock -= 20\n",
    "print(stock)"
   ]
  },
  {
   "cell_type": "code",
   "execution_count": 52,
   "id": "2e2de6a7-679f-459f-bc42-bd6bd79e5802",
   "metadata": {},
   "outputs": [
    {
     "name": "stdout",
     "output_type": "stream",
     "text": [
      "2000\n"
     ]
    }
   ],
   "source": [
    "stock = 100\n",
    "stock *= 20\n",
    "print(stock)"
   ]
  },
  {
   "cell_type": "code",
   "execution_count": 53,
   "id": "55130bb7-69fe-489d-b0b8-ebf8dfb104b1",
   "metadata": {},
   "outputs": [
    {
     "name": "stdout",
     "output_type": "stream",
     "text": [
      "5.0\n"
     ]
    }
   ],
   "source": [
    "stock = 100\n",
    "stock /= 20\n",
    "print(stock)"
   ]
  },
  {
   "cell_type": "code",
   "execution_count": 54,
   "id": "7b1997ed-056c-4c23-aeb0-9867732f9593",
   "metadata": {},
   "outputs": [
    {
     "name": "stdout",
     "output_type": "stream",
     "text": [
      "5\n"
     ]
    }
   ],
   "source": [
    "stock = 100\n",
    "stock //= 20\n",
    "print(stock)"
   ]
  },
  {
   "cell_type": "code",
   "execution_count": 55,
   "id": "305d1531-b45e-4858-ae83-1e5959f650fc",
   "metadata": {},
   "outputs": [
    {
     "name": "stdout",
     "output_type": "stream",
     "text": [
      "0\n"
     ]
    }
   ],
   "source": [
    "stock = 100\n",
    "stock %= 20\n",
    "print(stock)"
   ]
  },
  {
   "cell_type": "markdown",
   "id": "e63dc910-f044-42e9-9cc8-083712b361ca",
   "metadata": {},
   "source": [
    "#### bitwise operator (perform bit by bit operation)"
   ]
  },
  {
   "cell_type": "code",
   "execution_count": 56,
   "id": "71c122da-2850-45e6-8e6a-05b388c1235a",
   "metadata": {},
   "outputs": [
    {
     "name": "stdout",
     "output_type": "stream",
     "text": [
      "1\n"
     ]
    }
   ],
   "source": [
    "a = 5 # in binary format : 0101\n",
    "b = 3 # in binary format : 0011\n",
    "result = a & b\n",
    "print(result)"
   ]
  },
  {
   "cell_type": "code",
   "execution_count": 57,
   "id": "32824d4b-1f65-4c94-a425-db608ce84b07",
   "metadata": {},
   "outputs": [
    {
     "name": "stdout",
     "output_type": "stream",
     "text": [
      "7\n"
     ]
    }
   ],
   "source": [
    "a = 5 # in binary format : 0101\n",
    "b = 3 # in binary format : 0011\n",
    "result = a | b\n",
    "print(result)"
   ]
  },
  {
   "cell_type": "markdown",
   "id": "8c9055c9-3ef9-4ca1-bae5-6372cc8a5018",
   "metadata": {},
   "source": [
    "#### identity and membership operator"
   ]
  },
  {
   "cell_type": "code",
   "execution_count": 58,
   "id": "f43155ca-609e-4813-af07-ff07e6a2bd75",
   "metadata": {},
   "outputs": [
    {
     "name": "stdout",
     "output_type": "stream",
     "text": [
      "Is none True\n"
     ]
    }
   ],
   "source": [
    "a = None\n",
    "print(\"Is none\", a is None)"
   ]
  },
  {
   "cell_type": "code",
   "execution_count": 59,
   "id": "157ef9af-ba1b-48fc-899d-2c6db2d8fe83",
   "metadata": {},
   "outputs": [
    {
     "name": "stdout",
     "output_type": "stream",
     "text": [
      "Is none True\n"
     ]
    }
   ],
   "source": [
    "a = 5\n",
    "print(\"Is none\", a is not None)"
   ]
  },
  {
   "cell_type": "code",
   "execution_count": 61,
   "id": "8fcbbdf4-8df8-4596-afab-fe554ddaf8eb",
   "metadata": {},
   "outputs": [
    {
     "name": "stdout",
     "output_type": "stream",
     "text": [
      "pysthon is the skill True\n"
     ]
    }
   ],
   "source": [
    "skills = ['python','sql','excel']\n",
    "print('pysthon is the skill','python' in skills)"
   ]
  },
  {
   "cell_type": "code",
   "execution_count": 63,
   "id": "036a7924-b48e-40d9-a87b-20f5ff9b598e",
   "metadata": {},
   "outputs": [
    {
     "name": "stdout",
     "output_type": "stream",
     "text": [
      "pysthon is the skill True\n"
     ]
    }
   ],
   "source": [
    "skills = ['python','sql','excel']\n",
    "print('pysthon is the skill','AI' not in skills)"
   ]
  },
  {
   "cell_type": "markdown",
   "id": "a1b657fb-39fd-4a92-b789-e068df5f6a1b",
   "metadata": {},
   "source": [
    "#### Indentation Conditional Statements if, if-else,elif in python"
   ]
  },
  {
   "cell_type": "code",
   "execution_count": 64,
   "id": "e425da11-0ff3-41ed-b8af-8de1652cf961",
   "metadata": {},
   "outputs": [
    {
     "name": "stdout",
     "output_type": "stream",
     "text": [
      "you can vote in election\n"
     ]
    }
   ],
   "source": [
    "age = 18\n",
    "if age>=18 :\n",
    "    print(\"you can vote in election\")"
   ]
  },
  {
   "cell_type": "code",
   "execution_count": 70,
   "id": "4c79703a-0673-48be-b629-38b75b5752d5",
   "metadata": {},
   "outputs": [
    {
     "ename": "IndentationError",
     "evalue": "expected an indented block after 'if' statement on line 1 (1821814780.py, line 2)",
     "output_type": "error",
     "traceback": [
      "  \u001b[36mCell\u001b[39m\u001b[36m \u001b[39m\u001b[32mIn[70]\u001b[39m\u001b[32m, line 2\u001b[39m\n\u001b[31m    \u001b[39m\u001b[31mprint(\"Error!\")\u001b[39m\n    ^\n\u001b[31mIndentationError\u001b[39m\u001b[31m:\u001b[39m expected an indented block after 'if' statement on line 1\n"
     ]
    }
   ],
   "source": [
    "if age > 5:\n",
    "print(\"Error!\")    "
   ]
  },
  {
   "cell_type": "code",
   "execution_count": 71,
   "id": "4115bf63-1ff1-48ab-9fef-b18b2bd9f2d3",
   "metadata": {},
   "outputs": [
    {
     "name": "stdout",
     "output_type": "stream",
     "text": [
      "ticket price:200 (adult)\n"
     ]
    }
   ],
   "source": [
    "age = 22\n",
    "if age>=18:\n",
    "    print(\"ticket price:200 (adult)\")\n",
    "else:\n",
    "    print(\"ticket price: 100 (child)\")"
   ]
  },
  {
   "cell_type": "markdown",
   "id": "2b66275f-791d-473e-9d7a-9a9c1c691120",
   "metadata": {},
   "source": [
    "#### how to take input from the user"
   ]
  },
  {
   "cell_type": "code",
   "execution_count": 72,
   "id": "be8f9713-dac5-4593-a12f-ffde0a4164de",
   "metadata": {},
   "outputs": [
    {
     "name": "stdin",
     "output_type": "stream",
     "text": [
      "enter a number 10\n"
     ]
    },
    {
     "ename": "TypeError",
     "evalue": "unsupported operand type(s) for /: 'str' and 'int'",
     "output_type": "error",
     "traceback": [
      "\u001b[31m---------------------------------------------------------------------------\u001b[39m",
      "\u001b[31mTypeError\u001b[39m                                 Traceback (most recent call last)",
      "\u001b[36mCell\u001b[39m\u001b[36m \u001b[39m\u001b[32mIn[72]\u001b[39m\u001b[32m, line 2\u001b[39m\n\u001b[32m      1\u001b[39m a=\u001b[38;5;28minput\u001b[39m(\u001b[33m'\u001b[39m\u001b[33menter a number\u001b[39m\u001b[33m'\u001b[39m)\n\u001b[32m----> \u001b[39m\u001b[32m2\u001b[39m b=a/\u001b[32m10\u001b[39m\n\u001b[32m      3\u001b[39m \u001b[38;5;28mprint\u001b[39m(b)\n",
      "\u001b[31mTypeError\u001b[39m: unsupported operand type(s) for /: 'str' and 'int'"
     ]
    }
   ],
   "source": [
    "a=input('enter a number')\n",
    "b=a/10\n",
    "print(b)"
   ]
  },
  {
   "cell_type": "code",
   "execution_count": 73,
   "id": "217d6cbb-5825-43e3-8f0c-e9f4d04855cf",
   "metadata": {},
   "outputs": [
    {
     "name": "stdin",
     "output_type": "stream",
     "text": [
      "enter a number 10\n"
     ]
    },
    {
     "name": "stdout",
     "output_type": "stream",
     "text": [
      "1.0\n"
     ]
    }
   ],
   "source": [
    "a=int(input('enter a number'))\n",
    "b=a/10\n",
    "print(b)"
   ]
  },
  {
   "cell_type": "code",
   "execution_count": 74,
   "id": "e5f01d93-d489-4085-b6b9-4feafa537bee",
   "metadata": {},
   "outputs": [
    {
     "name": "stdin",
     "output_type": "stream",
     "text": [
      "enter marks 85\n"
     ]
    },
    {
     "name": "stdout",
     "output_type": "stream",
     "text": [
      "Grade B (good)\n"
     ]
    }
   ],
   "source": [
    "marks = int(input('enter marks'))\n",
    "if marks>90:\n",
    "    print(\"Grade A+ (topper)\")\n",
    "elif marks >=80:\n",
    "    print(\"Grade B (good)\")\n",
    "else:\n",
    "    print(\"Grade C (Average)\")"
   ]
  },
  {
   "cell_type": "markdown",
   "id": "309a80d8-117f-4687-afc9-a791e0006a36",
   "metadata": {},
   "source": [
    "#### Write a program to accept a number from user as input, check and display it is odd or even number."
   ]
  },
  {
   "cell_type": "code",
   "execution_count": 79,
   "id": "d28da571-680a-4ddf-85f1-14702607dd99",
   "metadata": {},
   "outputs": [
    {
     "name": "stdin",
     "output_type": "stream",
     "text": [
      "enter a number to find out even or odd 9\n"
     ]
    },
    {
     "name": "stdout",
     "output_type": "stream",
     "text": [
      "is odd number\n"
     ]
    }
   ],
   "source": [
    "a = int(input(\"enter a number to find out even or odd\"))\n",
    "\n",
    "result = a%2\n",
    "\n",
    "if result == 0:\n",
    "    print(\"is even number\")\n",
    "else:\n",
    "    print(\"is odd number\")"
   ]
  },
  {
   "cell_type": "markdown",
   "id": "35d39937-5207-4b9a-9d14-075438dbedf3",
   "metadata": {},
   "source": [
    "#### Flipkart wants to give discount based on purchase amount\n",
    " * 5000+ -> 20% off\n",
    " * 3000+ -> 10% off\n",
    " * Else -> No discount"
   ]
  },
  {
   "cell_type": "code",
   "execution_count": 85,
   "id": "47bc9945-1c41-4448-ac1c-174d4b1c67a9",
   "metadata": {},
   "outputs": [
    {
     "name": "stdin",
     "output_type": "stream",
     "text": [
      "Enter the final purchase amount 5000\n"
     ]
    },
    {
     "name": "stdout",
     "output_type": "stream",
     "text": [
      "Getting discount off 20%\n",
      "final amount is 4000.0\n"
     ]
    }
   ],
   "source": [
    "amount = int(input(\"Enter the final purchase amount\"))\n",
    "\n",
    "if amount >= 5000:\n",
    "    print(\"Getting discount off 20%\")\n",
    "    discount = amount * 0.2\n",
    "    print(\"final amount is\",amount-discount)\n",
    "elif amount >= 3000:\n",
    "    print(\"Getting discount off 10%\")\n",
    "    discount = amount * 0.1\n",
    "    print(\"final amount is\",amount-discount)\n",
    "else:\n",
    "    print(\"no discount\",amount)"
   ]
  },
  {
   "cell_type": "markdown",
   "id": "ea1d8df7-03de-4b3b-b829-c8ffceb63c97",
   "metadata": {},
   "source": [
    "#### Loops in python: while and for with Use - Cases"
   ]
  },
  {
   "cell_type": "markdown",
   "id": "ff33aec5-d22d-4c8d-9a65-017a5c5fbd6d",
   "metadata": {},
   "source": [
    "##### while loop syntax\n",
    "\n",
    "\\# initiasiation\n",
    "\n",
    "while condition:<br>\n",
    "    - \\# code block<br>\n",
    "    - \\# updation<br>"
   ]
  },
  {
   "cell_type": "code",
   "execution_count": 92,
   "id": "5dbf55f4-f326-482e-82d4-07f6d7d33b57",
   "metadata": {},
   "outputs": [
    {
     "name": "stdout",
     "output_type": "stream",
     "text": [
      "1\n",
      "2\n",
      "3\n",
      "4\n",
      "5\n"
     ]
    }
   ],
   "source": [
    "i = 1 # initialisation\n",
    "while i <= 5: # condition\n",
    "    print(i)\n",
    "    i+=1 # updation"
   ]
  },
  {
   "cell_type": "code",
   "execution_count": 93,
   "id": "fd4d2eb4-9608-48fa-a2f9-859a3f0323ed",
   "metadata": {},
   "outputs": [
    {
     "name": "stdout",
     "output_type": "stream",
     "text": [
      "1\n"
     ]
    }
   ],
   "source": [
    "i=1\n",
    "if i<=5:\n",
    "    print(i)\n",
    "    i+=1"
   ]
  },
  {
   "cell_type": "markdown",
   "id": "ba3d6ab5-eec7-450b-9d35-a577f8418add",
   "metadata": {},
   "source": [
    "#### Sum of numbers from 1 to n"
   ]
  },
  {
   "cell_type": "code",
   "execution_count": 1,
   "id": "6d477b22-9199-4a42-a54d-6ac24a189898",
   "metadata": {},
   "outputs": [
    {
     "name": "stdin",
     "output_type": "stream",
     "text": [
      "enter a number 10\n"
     ]
    },
    {
     "name": "stdout",
     "output_type": "stream",
     "text": [
      "Sum on of n  10 is  55\n"
     ]
    }
   ],
   "source": [
    "n = int(input(\"enter a number\"))\n",
    "i = 1\n",
    "total = 0\n",
    "while i<=n:\n",
    "    total +=i\n",
    "    i+=1\n",
    "\n",
    "print(\"Sum on of n \",n,\"is \",total)\n"
   ]
  },
  {
   "cell_type": "markdown",
   "id": "6b92e4b8-845c-46e0-9d1f-673ff3c03e58",
   "metadata": {},
   "source": [
    "##### syntax for **for** loop\n",
    "   for variable in sequence:\n",
    "       - \\# code block"
   ]
  },
  {
   "cell_type": "markdown",
   "id": "54bd60ef-2ce3-4234-b587-b9598f57785c",
   "metadata": {},
   "source": [
    "#### three types of range\n",
    "* range(n) -> 0 to n-1\n",
    "* range(start,stop) -> from start to stop -1\n",
    "* range(start,stop, step) -> step can be postive or negative"
   ]
  },
  {
   "cell_type": "code",
   "execution_count": 2,
   "id": "10d30aa9-0729-4eac-a0e6-fea0e10380d6",
   "metadata": {},
   "outputs": [
    {
     "name": "stdout",
     "output_type": "stream",
     "text": [
      "1\n",
      "2\n",
      "3\n",
      "4\n",
      "5\n"
     ]
    }
   ],
   "source": [
    "for i in range(1,6):\n",
    "    print(i)"
   ]
  },
  {
   "cell_type": "code",
   "execution_count": 3,
   "id": "4ecc4d21-01d5-4cd5-8b2e-d24d4cf20c05",
   "metadata": {},
   "outputs": [
    {
     "name": "stdout",
     "output_type": "stream",
     "text": [
      "range(0, 5)\n"
     ]
    }
   ],
   "source": [
    "print(range(5))"
   ]
  },
  {
   "cell_type": "code",
   "execution_count": 7,
   "id": "91d0e4a6-25d9-4bfb-8d09-fe633fd8343b",
   "metadata": {},
   "outputs": [
    {
     "name": "stdout",
     "output_type": "stream",
     "text": [
      "5\n",
      "3\n",
      "1\n"
     ]
    }
   ],
   "source": [
    "# print reverse number\n",
    "for i in range(5,0,-2):\n",
    "    print(i)"
   ]
  },
  {
   "cell_type": "code",
   "execution_count": 9,
   "id": "6ec34253-9a0b-4b4a-87b8-1b17dc05842f",
   "metadata": {},
   "outputs": [
    {
     "name": "stdin",
     "output_type": "stream",
     "text": [
      "Enter a number 5\n"
     ]
    },
    {
     "name": "stdout",
     "output_type": "stream",
     "text": [
      "factorial number is  120\n"
     ]
    }
   ],
   "source": [
    "#### Factorial of a number\n",
    "n = int(input(\"Enter a number\"))\n",
    "fact = 1\n",
    "\n",
    "for i in range(1,n+1):\n",
    "    fact*=i\n",
    "print(\"factorial number is \",fact)\n"
   ]
  },
  {
   "cell_type": "markdown",
   "id": "093de5e3-84a9-4398-8808-4d3a728dc564",
   "metadata": {},
   "source": [
    "#### Marksheet Generator\n",
    "problem: print roll number and subject marks fir 3 students and 3 subjects using nested for loops"
   ]
  },
  {
   "cell_type": "code",
   "execution_count": 10,
   "id": "654a2ec5-251f-47bc-89ac-e83cb4612613",
   "metadata": {},
   "outputs": [
    {
     "name": "stdout",
     "output_type": "stream",
     "text": [
      "\n",
      "Roll No: 1\n",
      "subject: 1 marks: 10\n",
      "subject: 2 marks: 20\n",
      "subject: 3 marks: 30\n",
      "\n",
      "Roll No: 2\n",
      "subject: 1 marks: 10\n",
      "subject: 2 marks: 20\n",
      "subject: 3 marks: 30\n",
      "\n",
      "Roll No: 3\n",
      "subject: 1 marks: 10\n",
      "subject: 2 marks: 20\n",
      "subject: 3 marks: 30\n"
     ]
    }
   ],
   "source": [
    "for student in range(1,4):\n",
    "    print(\"\\nRoll No:\", student)\n",
    "    for subject in range(1,4):\n",
    "        print(\"subject:\",subject,\"marks:\", subject *10)"
   ]
  },
  {
   "cell_type": "markdown",
   "id": "07974e4b-9f18-4c56-8b80-d09de9aee57d",
   "metadata": {},
   "source": [
    "#### Nested loops, break and continue"
   ]
  },
  {
   "cell_type": "code",
   "execution_count": 12,
   "id": "65f4d44e-1372-4934-927f-15789c88485f",
   "metadata": {},
   "outputs": [
    {
     "name": "stdout",
     "output_type": "stream",
     "text": [
      "1\t2\t3\t\n",
      "2\t4\t6\t\n",
      "3\t6\t9\t\n"
     ]
    }
   ],
   "source": [
    "# mulitlication table\n",
    "for i in range(1,4):\n",
    "    for j in range(1,4):\n",
    "        print(i*j,end=\"\\t\")\n",
    "    print()"
   ]
  },
  {
   "cell_type": "markdown",
   "id": "70c9cac3-c0c6-4885-9eb5-962c21db5020",
   "metadata": {},
   "source": [
    "#### Right Angled Triangled Pattern"
   ]
  },
  {
   "cell_type": "code",
   "execution_count": 14,
   "id": "f26dd82a-b248-4601-b913-1ed23c8f5d1b",
   "metadata": {},
   "outputs": [
    {
     "name": "stdout",
     "output_type": "stream",
     "text": [
      "* \n",
      "* * \n",
      "* * * \n",
      "* * * * \n",
      "* * * * * \n"
     ]
    }
   ],
   "source": [
    "rows = 5\n",
    "for i in range(1,rows+1):\n",
    "    for j in range(i):\n",
    "        print(\"*\",end=\" \")\n",
    "    print()    "
   ]
  },
  {
   "cell_type": "markdown",
   "id": "76301cce-4dc3-41fb-926f-21e6e0da165b",
   "metadata": {},
   "source": [
    "#### Matrix sum without list"
   ]
  },
  {
   "cell_type": "code",
   "execution_count": 15,
   "id": "ea9cf6ef-c37a-4e92-8286-77d84ce8c457",
   "metadata": {},
   "outputs": [
    {
     "name": "stdin",
     "output_type": "stream",
     "text": [
      "enter element at postion [1,1]:  1\n",
      "enter element at postion [1,2]:  2\n",
      "enter element at postion [1,3]:  3\n",
      "enter element at postion [2,1]:  4\n",
      "enter element at postion [2,2]:  5\n",
      "enter element at postion [2,3]:  6\n",
      "enter element at postion [3,1]:  7\n",
      "enter element at postion [3,2]:  8\n",
      "enter element at postion [3,3]:  9\n"
     ]
    },
    {
     "name": "stdout",
     "output_type": "stream",
     "text": [
      "Total sum of all matrix element is:  45\n"
     ]
    }
   ],
   "source": [
    "total = 0\n",
    "for i in range(1,4):\n",
    "    for j in range(1,4):\n",
    "        num = int(input(f\"enter element at postion [{i},{j}]: \"))\n",
    "        total+=num\n",
    "print(\"Total sum of all matrix element is: \", total)        "
   ]
  },
  {
   "cell_type": "markdown",
   "id": "797c7e2c-52ba-4d07-94d3-52c7d21ba0c2",
   "metadata": {},
   "source": [
    "#### break statement"
   ]
  },
  {
   "cell_type": "code",
   "execution_count": 20,
   "id": "6b0bad7e-1ced-4161-8f6c-847edbc71442",
   "metadata": {},
   "outputs": [
    {
     "name": "stdout",
     "output_type": "stream",
     "text": [
      "First multiple of 7 is: 7\n"
     ]
    }
   ],
   "source": [
    "for i in range(1,101):\n",
    "    if i%7 == 0:\n",
    "        print(\"First multiple of 7 is:\",i)\n",
    "        break"
   ]
  },
  {
   "cell_type": "code",
   "execution_count": 24,
   "id": "7dc94217-391c-4450-ac64-5be7c9cb2a0b",
   "metadata": {},
   "outputs": [
    {
     "name": "stdin",
     "output_type": "stream",
     "text": [
      "Enter a number (negative to stop):  -1\n"
     ]
    },
    {
     "name": "stdout",
     "output_type": "stream",
     "text": [
      "Negative number is entered. Existing loop.\n"
     ]
    }
   ],
   "source": [
    "while True:\n",
    "    number = int(input(\"Enter a number (negative to stop): \"))\n",
    "    if number<0:\n",
    "        print(\"Negative number is entered. Existing loop.\")\n",
    "        break    \n",
    "    print(\"you entered:\",number)    "
   ]
  },
  {
   "cell_type": "code",
   "execution_count": 25,
   "id": "b89dab48-8437-4885-9ae5-e6f9fe0ec0f3",
   "metadata": {},
   "outputs": [
    {
     "name": "stdout",
     "output_type": "stream",
     "text": [
      "1\n",
      "2\n",
      "3\n",
      "4\n",
      "6\n",
      "7\n",
      "8\n",
      "9\n",
      "10\n"
     ]
    }
   ],
   "source": [
    "#### continue\n",
    "for i in range(1,11):\n",
    "    if i == 5:\n",
    "        continue\n",
    "    print(i)    "
   ]
  },
  {
   "cell_type": "markdown",
   "id": "a23bbee9-c51a-4d39-8d1a-f63fde29a3e9",
   "metadata": {},
   "source": [
    "#### find and print even number"
   ]
  },
  {
   "cell_type": "code",
   "execution_count": 27,
   "id": "abe198c8-e54d-4d33-8635-db480a81e15c",
   "metadata": {},
   "outputs": [
    {
     "name": "stdout",
     "output_type": "stream",
     "text": [
      "1\n",
      "3\n",
      "5\n",
      "7\n",
      "9\n"
     ]
    }
   ],
   "source": [
    "for i in range(1,11):\n",
    "    if i%2 == 0:\n",
    "        continue\n",
    "    print(i)"
   ]
  },
  {
   "cell_type": "markdown",
   "id": "83cabbce-38df-4427-adcb-c04dd73cbf62",
   "metadata": {},
   "source": [
    "#### Problem Statement: A class has 5 students. For each student, ask how many days they were present out of 30.\n",
    "\n",
    "• Skip the entry if the attendance is negative (use continue )\n",
    "\n",
    "• If attendance is more than 30, show a warning and stop the loop (use break )\n",
    "\n",
    "• Use a nested loop structure if we later expand to include multiple classes"
   ]
  },
  {
   "cell_type": "code",
   "execution_count": null,
   "id": "a2f515fd-db4f-49e6-a2ec-aa8e7509d33b",
   "metadata": {},
   "outputs": [
    {
     "name": "stdout",
     "output_type": "stream",
     "text": [
      "\n",
      "checking student1\n"
     ]
    },
    {
     "name": "stdin",
     "output_type": "stream",
     "text": [
      "Enter attendence (0 to 30):  23\n"
     ]
    },
    {
     "name": "stdout",
     "output_type": "stream",
     "text": [
      "Record attendance: 23\n",
      "\n",
      "checking student2\n"
     ]
    },
    {
     "name": "stdin",
     "output_type": "stream",
     "text": [
      "Enter attendence (0 to 30):  12\n"
     ]
    },
    {
     "name": "stdout",
     "output_type": "stream",
     "text": [
      "Record attendance: 12\n",
      "\n",
      "checking student3\n"
     ]
    }
   ],
   "source": [
    "for student in range(1,6):\n",
    "    print(f\"\\nchecking student{student}\")\n",
    "    attendance = int(input(\"Enter attendence (0 to 30): \"))\n",
    "\n",
    "    if attendance < 0:\n",
    "        print(\"invalid data. skiping student.\")\n",
    "        continue\n",
    "    if attendance > 30:\n",
    "        print(\"Data error. stopping system.\")\n",
    "        break\n",
    "\n",
    "    print(\"Record attendance:\",attendance)\n"
   ]
  }
 ],
 "metadata": {
  "kernelspec": {
   "display_name": "Python [conda env:jl311]",
   "language": "python",
   "name": "conda-env-jl311-py"
  },
  "language_info": {
   "codemirror_mode": {
    "name": "ipython",
    "version": 3
   },
   "file_extension": ".py",
   "mimetype": "text/x-python",
   "name": "python",
   "nbconvert_exporter": "python",
   "pygments_lexer": "ipython3",
   "version": "3.11.13"
  }
 },
 "nbformat": 4,
 "nbformat_minor": 5
}
