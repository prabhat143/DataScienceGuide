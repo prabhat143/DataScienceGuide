{
 "cells": [
  {
   "cell_type": "markdown",
   "id": "d18e7245-d30b-42ae-9c75-089526e146b1",
   "metadata": {},
   "source": [
    "# SETs"
   ]
  },
  {
   "cell_type": "markdown",
   "id": "8643effe-868d-4152-8d81-5cb0409cafc6",
   "metadata": {},
   "source": [
    "similar to list and tuples, but its collection of objects, but they are distinct in that\n",
    "\n",
    "they are unordered and do not support indexing\n",
    "\n",
    "creted using curly braces{}, set offer unqie elements, eleminating duplicates\n",
    "\n",
    "and providing a mechanism for efficient membership testing.\n",
    "\n",
    "Sets store unique elements and are useful for eleminating duplicates.    "
   ]
  },
  {
   "cell_type": "markdown",
   "id": "7f300510-a6b9-4a62-be0c-98091bf5e2e7",
   "metadata": {},
   "source": [
    "sets are O(1) if its not set then O(n)"
   ]
  },
  {
   "cell_type": "code",
   "execution_count": 2,
   "id": "476a7ce4-bca9-40b8-a991-c630a31c5900",
   "metadata": {},
   "outputs": [
    {
     "name": "stdout",
     "output_type": "stream",
     "text": [
      "Unique brands in stock: {'Mahindra', 'Hyundai', 'Tata', 'Maruti Suzuki'}\n"
     ]
    }
   ],
   "source": [
    "brands_sold = {\"Maruti Suzuki\", \"Hyundai\", \"Tata\", \"Mahindra\", \"Maruti Suzuki\", \"Tata\"}\n",
    "print(\"Unique brands in stock:\", brands_sold)"
   ]
  },
  {
   "cell_type": "markdown",
   "id": "6956445b-8aa6-45c8-b20a-f576392355fa",
   "metadata": {},
   "source": [
    "## Compare two car features set"
   ]
  },
  {
   "cell_type": "code",
   "execution_count": 5,
   "id": "e78990e6-9238-405b-b6d6-b37a5ff0181a",
   "metadata": {},
   "outputs": [],
   "source": [
    "features_car1 = {\"ABS\", \"Airbags\",\"Sunroof\", \"Touchscreen\"}\n",
    "features_car2 = {\"ABS\", \"Airbags\",\"Cruise Control\", \"Sunroof\"}"
   ]
  },
  {
   "cell_type": "markdown",
   "id": "536c2c78-23ad-4dfc-b2e8-04d1c5c027f9",
   "metadata": {},
   "source": [
    "## Intersection: Common features in both cars"
   ]
  },
  {
   "cell_type": "code",
   "execution_count": 9,
   "id": "41b9125a-1f8f-4d54-aa6b-d7cb42853f4d",
   "metadata": {},
   "outputs": [
    {
     "name": "stdout",
     "output_type": "stream",
     "text": [
      "Common features in both cars: {'ABS', 'Sunroof', 'Airbags'}\n"
     ]
    }
   ],
   "source": [
    "common_features = features_car1. intersection(features_car2)\n",
    "print(\"Common features in both cars:\", common_features)"
   ]
  },
  {
   "cell_type": "markdown",
   "id": "fe81120b-3079-4c49-a55e-fc6883dddb4f",
   "metadata": {},
   "source": [
    "## Union: all unique feature available in car"
   ]
  },
  {
   "cell_type": "code",
   "execution_count": 11,
   "id": "9064578e-097e-4353-80e9-c52979375f79",
   "metadata": {},
   "outputs": [
    {
     "name": "stdout",
     "output_type": "stream",
     "text": [
      "Common features in both cars: {'Touchscreen', 'Airbags', 'ABS', 'Sunroof', 'Cruise Control'}\n"
     ]
    }
   ],
   "source": [
    "common_features = features_car1. union(features_car2)\n",
    "print(\"Common features in both cars:\", common_features)"
   ]
  },
  {
   "cell_type": "markdown",
   "id": "18a036f2-b1cb-4072-b64f-3ea994fa0f65",
   "metadata": {},
   "source": [
    "## Difference: Features that are in car1 but not in car2"
   ]
  },
  {
   "cell_type": "code",
   "execution_count": 12,
   "id": "8da2fd05-7f34-440e-a23d-3bb053c31dd1",
   "metadata": {},
   "outputs": [
    {
     "name": "stdout",
     "output_type": "stream",
     "text": [
      "Common features in both cars: {'Touchscreen'}\n"
     ]
    }
   ],
   "source": [
    "common_features = features_car1. difference(features_car2)\n",
    "print(\"Common features in both cars:\", common_features)"
   ]
  },
  {
   "cell_type": "markdown",
   "id": "3d80a885-57cf-4795-916c-992a4e269ac3",
   "metadata": {},
   "source": [
    "## Difference: Features that are in car2 but not in car1"
   ]
  },
  {
   "cell_type": "code",
   "execution_count": 14,
   "id": "7b4e3161-5730-4e5c-ac68-5dd054c6fad3",
   "metadata": {},
   "outputs": [
    {
     "name": "stdout",
     "output_type": "stream",
     "text": [
      "Common features in both cars: {'Cruise Control'}\n"
     ]
    }
   ],
   "source": [
    "common_features = features_car2. difference(features_car1)\n",
    "print(\"Common features in both cars:\", common_features)"
   ]
  }
 ],
 "metadata": {
  "kernelspec": {
   "display_name": "Python [conda env:jl311]",
   "language": "python",
   "name": "conda-env-jl311-py"
  },
  "language_info": {
   "codemirror_mode": {
    "name": "ipython",
    "version": 3
   },
   "file_extension": ".py",
   "mimetype": "text/x-python",
   "name": "python",
   "nbconvert_exporter": "python",
   "pygments_lexer": "ipython3",
   "version": "3.11.13"
  }
 },
 "nbformat": 4,
 "nbformat_minor": 5
}
