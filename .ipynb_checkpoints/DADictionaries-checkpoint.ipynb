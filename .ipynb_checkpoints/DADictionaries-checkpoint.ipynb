{
 "cells": [
  {
   "cell_type": "markdown",
   "id": "3c045be8-e254-4930-9509-6b522e426f8d",
   "metadata": {},
   "source": [
    "# Dictionaries"
   ]
  },
  {
   "cell_type": "markdown",
   "id": "c352195f-ead4-4724-b2f3-6c277f44dead",
   "metadata": {},
   "source": [
    "is a in build data structure that stores the data in key and value pair"
   ]
  },
  {
   "cell_type": "markdown",
   "id": "6cc10dda-3f8a-456d-8885-d7a519c6b60e",
   "metadata": {},
   "source": [
    "why use Dictionaries\n",
    "\n",
    "- Quick access using keys\n",
    "- Logical structure for real world data\n",
    "- unordered and mutable\n",
    "- keys are unique, values can be duplicated"
   ]
  },
  {
   "cell_type": "markdown",
   "id": "8b8fa8d2-171e-4ad1-9b9a-c87ba6d6a870",
   "metadata": {},
   "source": [
    "What Dictionaries didnt exist?\n",
    "We use list or tuples for pairing data which leads to:\n",
    "- More complex indexing\n",
    "- Slower access\n",
    "- confusing code readabilty"
   ]
  },
  {
   "cell_type": "code",
   "execution_count": 3,
   "id": "a82a7322-cce2-438c-8dca-442460a8b8b9",
   "metadata": {},
   "outputs": [],
   "source": [
    "# Example\n",
    "students_marks = {\n",
    "    \"Amit\":85,\n",
    "    \"riya\":92,\n",
    "    \"jay\": 78\n",
    "}"
   ]
  },
  {
   "cell_type": "code",
   "execution_count": 4,
   "id": "a9f550ac-4e52-4cbb-8cb8-c63b2178adf6",
   "metadata": {},
   "outputs": [
    {
     "name": "stdout",
     "output_type": "stream",
     "text": [
      "92\n"
     ]
    }
   ],
   "source": [
    "print(students_marks[\"riya\"])"
   ]
  },
  {
   "cell_type": "markdown",
   "id": "2102953b-4277-4be9-acba-022fd189e3c8",
   "metadata": {},
   "source": [
    "## Dictionaries operations"
   ]
  },
  {
   "cell_type": "code",
   "execution_count": 5,
   "id": "ae524c3f-2fa4-4398-bab9-9bdeecff31f4",
   "metadata": {},
   "outputs": [
    {
     "name": "stdout",
     "output_type": "stream",
     "text": [
      "{'Amit': 85, 'riya': 92, 'jay': 78, 'neha': 88}\n"
     ]
    }
   ],
   "source": [
    "students_marks[\"neha\"] = 88\n",
    "print(students_marks)"
   ]
  },
  {
   "cell_type": "code",
   "execution_count": 6,
   "id": "4eb152a6-fa7b-4068-ba65-eb3523962de5",
   "metadata": {},
   "outputs": [
    {
     "name": "stdout",
     "output_type": "stream",
     "text": [
      "Amit scored  85\n",
      "riya scored  92\n",
      "jay scored  78\n",
      "neha scored  88\n"
     ]
    }
   ],
   "source": [
    "#loops in Dictionaries \n",
    "for name,marks in students_marks.items():\n",
    "    print(name, \"scored \",marks)"
   ]
  },
  {
   "cell_type": "code",
   "execution_count": 7,
   "id": "97e2c6fa-9f81-4e83-ba5c-7bf5fcb79d84",
   "metadata": {},
   "outputs": [],
   "source": [
    "# delete an element\n",
    "del students_marks[\"jay\"]"
   ]
  },
  {
   "cell_type": "code",
   "execution_count": 8,
   "id": "7acca307-6fa9-4d1a-9320-2116fc2df07b",
   "metadata": {},
   "outputs": [
    {
     "name": "stdout",
     "output_type": "stream",
     "text": [
      "Amit scored  85\n",
      "riya scored  92\n",
      "neha scored  88\n"
     ]
    }
   ],
   "source": [
    "for name,marks in students_marks.items():\n",
    "    print(name, \"scored \",marks)"
   ]
  },
  {
   "cell_type": "code",
   "execution_count": null,
   "id": "f052eff1-f69c-4230-9a8d-8e42122b0a71",
   "metadata": {},
   "outputs": [],
   "source": []
  }
 ],
 "metadata": {
  "kernelspec": {
   "display_name": "Python [conda env:jl311]",
   "language": "python",
   "name": "conda-env-jl311-py"
  },
  "language_info": {
   "codemirror_mode": {
    "name": "ipython",
    "version": 3
   },
   "file_extension": ".py",
   "mimetype": "text/x-python",
   "name": "python",
   "nbconvert_exporter": "python",
   "pygments_lexer": "ipython3",
   "version": "3.11.13"
  }
 },
 "nbformat": 4,
 "nbformat_minor": 5
}
