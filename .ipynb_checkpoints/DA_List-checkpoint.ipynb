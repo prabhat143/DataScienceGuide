{
 "cells": [
  {
   "cell_type": "markdown",
   "id": "500ac3c3-e421-4b5d-a50c-012691280380",
   "metadata": {},
   "source": [
    "# LIST\n",
    "Mutable sequence of element\n",
    "\n",
    "A list is a built-in data structure in python that allows to store mutiple values in a single variables, Storing an ordered collection of elements"
   ]
  },
  {
   "cell_type": "code",
   "execution_count": 10,
   "id": "302a077c-8282-4f91-b0eb-a06ec96c7c32",
   "metadata": {},
   "outputs": [],
   "source": [
    "#Creating list\n",
    "my_list = [11,12,13,14,15]"
   ]
  },
  {
   "cell_type": "code",
   "execution_count": 2,
   "id": "ff1d6686-d72f-46b1-863c-8a1aaee58bf3",
   "metadata": {},
   "outputs": [
    {
     "name": "stdout",
     "output_type": "stream",
     "text": [
      "List of integers [11, 12, 13, 14, 15]\n"
     ]
    }
   ],
   "source": [
    "print(\"List of integers\",my_list)"
   ]
  },
  {
   "cell_type": "markdown",
   "id": "8201e8d5-eca8-4d93-ad30-82d51494267b",
   "metadata": {},
   "source": [
    "## Access elements using indexing"
   ]
  },
  {
   "cell_type": "code",
   "execution_count": 3,
   "id": "89dfcbe3-71ce-48d1-87f5-0bcc5b952141",
   "metadata": {},
   "outputs": [
    {
     "name": "stdout",
     "output_type": "stream",
     "text": [
      "Element at index 2: 13\n"
     ]
    }
   ],
   "source": [
    "print(\"Element at index 2:\",my_list[2] )"
   ]
  },
  {
   "cell_type": "markdown",
   "id": "00492b47-1340-4bd5-a019-151a6387459e",
   "metadata": {},
   "source": [
    "## Modifying an element, since list is mutable"
   ]
  },
  {
   "cell_type": "code",
   "execution_count": 11,
   "id": "32b25840-7f6c-4454-a49d-86274dc24442",
   "metadata": {},
   "outputs": [
    {
     "name": "stdout",
     "output_type": "stream",
     "text": [
      "Curent list: [11, 12, 13, 14, 15]\n"
     ]
    }
   ],
   "source": [
    "print(\"Curent list:\",my_list)"
   ]
  },
  {
   "cell_type": "code",
   "execution_count": 12,
   "id": "3bfc5400-8dc7-4e2c-b787-25f953f92950",
   "metadata": {},
   "outputs": [
    {
     "name": "stdout",
     "output_type": "stream",
     "text": [
      "Modified list: [11, 10, 13, 14, 15]\n"
     ]
    }
   ],
   "source": [
    "my_list[1] = 10\n",
    "print(\"Modified list:\",my_list)"
   ]
  },
  {
   "cell_type": "markdown",
   "id": "bb858598-ba5b-47c3-8ddc-c8baebab761a",
   "metadata": {},
   "source": [
    "## Appending new element a last"
   ]
  },
  {
   "cell_type": "code",
   "execution_count": 14,
   "id": "fdf6704e-2d0f-44c8-8547-3bdbddbcf576",
   "metadata": {},
   "outputs": [],
   "source": [
    "my_list.append(6)"
   ]
  },
  {
   "cell_type": "code",
   "execution_count": 15,
   "id": "0baa0bf6-e59c-4d6f-8e3b-99c4847615b8",
   "metadata": {},
   "outputs": [
    {
     "name": "stdout",
     "output_type": "stream",
     "text": [
      "[11, 10, 13, 14, 15, 6]\n"
     ]
    }
   ],
   "source": [
    "print(my_list)"
   ]
  },
  {
   "cell_type": "markdown",
   "id": "3103831b-87ad-4c63-9284-3026e5d72677",
   "metadata": {},
   "source": [
    "## POP will display and remove top most element"
   ]
  },
  {
   "cell_type": "code",
   "execution_count": 17,
   "id": "a402f1ce-5da9-49c0-b47e-6e3352945e0c",
   "metadata": {},
   "outputs": [
    {
     "data": {
      "text/plain": [
       "15"
      ]
     },
     "execution_count": 17,
     "metadata": {},
     "output_type": "execute_result"
    }
   ],
   "source": [
    "my_list.pop()"
   ]
  },
  {
   "cell_type": "code",
   "execution_count": 18,
   "id": "ce28cb1b-6086-4a08-bcef-bd73e9912097",
   "metadata": {},
   "outputs": [
    {
     "name": "stdout",
     "output_type": "stream",
     "text": [
      "[11, 10, 13, 14]\n"
     ]
    }
   ],
   "source": [
    "print(my_list)"
   ]
  },
  {
   "cell_type": "markdown",
   "id": "6e397cfa-97f3-4564-be26-6d8401cf8b1a",
   "metadata": {},
   "source": [
    "## Use loop with list"
   ]
  },
  {
   "cell_type": "code",
   "execution_count": 19,
   "id": "4c2b1a9a-6d8a-4a5a-82c7-14ec17c446a1",
   "metadata": {},
   "outputs": [
    {
     "name": "stdout",
     "output_type": "stream",
     "text": [
      "11\n",
      "10\n",
      "13\n",
      "14\n"
     ]
    }
   ],
   "source": [
    "for i in my_list:\n",
    "    print(i)"
   ]
  },
  {
   "cell_type": "markdown",
   "id": "296b4532-bca6-410e-b75e-7db57cd06690",
   "metadata": {},
   "source": [
    "## Mixed data type list"
   ]
  },
  {
   "cell_type": "code",
   "execution_count": 21,
   "id": "57af8977-deac-408d-9307-7a9b19dd2520",
   "metadata": {},
   "outputs": [],
   "source": [
    "mixedList = [1,\"String\",3.14,True,[5,6,7]]"
   ]
  },
  {
   "cell_type": "code",
   "execution_count": 22,
   "id": "1f643d27-660a-4183-9f8b-d7b7dc54e1b0",
   "metadata": {},
   "outputs": [
    {
     "data": {
      "text/plain": [
       "[1, 'String', 3.14, True, [5, 6, 7]]"
      ]
     },
     "execution_count": 22,
     "metadata": {},
     "output_type": "execute_result"
    }
   ],
   "source": [
    "mixedList"
   ]
  },
  {
   "cell_type": "code",
   "execution_count": 23,
   "id": "3c39d091-f786-472e-a013-01899c8e7a5a",
   "metadata": {},
   "outputs": [
    {
     "data": {
      "text/plain": [
       "int"
      ]
     },
     "execution_count": 23,
     "metadata": {},
     "output_type": "execute_result"
    }
   ],
   "source": [
    "type(mixedList[0])"
   ]
  },
  {
   "cell_type": "code",
   "execution_count": 24,
   "id": "b853cd6b-c08e-4ca3-8f36-f91bef41297e",
   "metadata": {},
   "outputs": [
    {
     "data": {
      "text/plain": [
       "str"
      ]
     },
     "execution_count": 24,
     "metadata": {},
     "output_type": "execute_result"
    }
   ],
   "source": [
    "type(mixedList[1])"
   ]
  },
  {
   "cell_type": "code",
   "execution_count": 25,
   "id": "99ffa554-52d4-42d5-9ac2-cf7a7abf8473",
   "metadata": {},
   "outputs": [
    {
     "data": {
      "text/plain": [
       "float"
      ]
     },
     "execution_count": 25,
     "metadata": {},
     "output_type": "execute_result"
    }
   ],
   "source": [
    "type(mixedList[2])"
   ]
  },
  {
   "cell_type": "code",
   "execution_count": 26,
   "id": "87a54668-2f37-453d-891e-2176ce2f8fbc",
   "metadata": {},
   "outputs": [
    {
     "data": {
      "text/plain": [
       "bool"
      ]
     },
     "execution_count": 26,
     "metadata": {},
     "output_type": "execute_result"
    }
   ],
   "source": [
    "type(mixedList[3])"
   ]
  },
  {
   "cell_type": "code",
   "execution_count": 27,
   "id": "9e53d44b-7b98-4e42-99ad-998fcabd3587",
   "metadata": {},
   "outputs": [
    {
     "data": {
      "text/plain": [
       "list"
      ]
     },
     "execution_count": 27,
     "metadata": {},
     "output_type": "execute_result"
    }
   ],
   "source": [
    "type(mixedList[4])"
   ]
  },
  {
   "cell_type": "markdown",
   "id": "1334a766-a6ec-42e2-9710-e7fc6cc01c80",
   "metadata": {},
   "source": [
    "## Indexing and slicing the list"
   ]
  },
  {
   "cell_type": "code",
   "execution_count": 28,
   "id": "ddb8b55d-0827-4d3d-8726-7f2a7af31a56",
   "metadata": {},
   "outputs": [
    {
     "data": {
      "text/plain": [
       "[11, 10, 13, 14]"
      ]
     },
     "execution_count": 28,
     "metadata": {},
     "output_type": "execute_result"
    }
   ],
   "source": [
    "my_list"
   ]
  },
  {
   "cell_type": "code",
   "execution_count": 29,
   "id": "892ea7e2-ee7b-4f4d-92ac-d1a46d078c80",
   "metadata": {},
   "outputs": [
    {
     "data": {
      "text/plain": [
       "[11, 10]"
      ]
     },
     "execution_count": 29,
     "metadata": {},
     "output_type": "execute_result"
    }
   ],
   "source": [
    "my_list[0:2]"
   ]
  },
  {
   "cell_type": "code",
   "execution_count": 30,
   "id": "730b7aea-9ff6-4daa-ba18-dc36bd9dd87b",
   "metadata": {},
   "outputs": [
    {
     "data": {
      "text/plain": [
       "[11]"
      ]
     },
     "execution_count": 30,
     "metadata": {},
     "output_type": "execute_result"
    }
   ],
   "source": [
    "my_list[0:1]"
   ]
  },
  {
   "cell_type": "code",
   "execution_count": 31,
   "id": "639f8d72-b4ac-4ed7-95da-689628086c82",
   "metadata": {},
   "outputs": [
    {
     "data": {
      "text/plain": [
       "[10, 13, 14]"
      ]
     },
     "execution_count": 31,
     "metadata": {},
     "output_type": "execute_result"
    }
   ],
   "source": [
    "my_list[1:4]"
   ]
  },
  {
   "cell_type": "code",
   "execution_count": 32,
   "id": "c8b387f8-3143-4688-b551-d53c8e0def71",
   "metadata": {},
   "outputs": [
    {
     "data": {
      "text/plain": [
       "[13, 14]"
      ]
     },
     "execution_count": 32,
     "metadata": {},
     "output_type": "execute_result"
    }
   ],
   "source": [
    "my_list[2:]"
   ]
  },
  {
   "cell_type": "code",
   "execution_count": 33,
   "id": "4549c019-e47d-45b4-b9f1-236a61488d1f",
   "metadata": {},
   "outputs": [
    {
     "data": {
      "text/plain": [
       "[11, 10, 13]"
      ]
     },
     "execution_count": 33,
     "metadata": {},
     "output_type": "execute_result"
    }
   ],
   "source": [
    "my_list[:3]"
   ]
  },
  {
   "cell_type": "markdown",
   "id": "8fbbdedf-7f52-49ee-af68-e6a049f29ce8",
   "metadata": {},
   "source": [
    "## Accessing inside a nested list"
   ]
  },
  {
   "cell_type": "code",
   "execution_count": 42,
   "id": "af0c49eb-cc7a-4f9a-93a5-b5d91040592e",
   "metadata": {},
   "outputs": [],
   "source": [
    "myNestedList = [[1,2,3],[\"apple\",\"banana\",\"orange\"],3.144,54,['dog','cat','bird']]"
   ]
  },
  {
   "cell_type": "code",
   "execution_count": 35,
   "id": "de4d2557-1904-4192-92a0-61786364e7f0",
   "metadata": {},
   "outputs": [
    {
     "data": {
      "text/plain": [
       "[[1, 2, 3], ['apple', 'banana', 'orange'], 3.144, 54, ['dog', 'cat', 'bird']]"
      ]
     },
     "execution_count": 35,
     "metadata": {},
     "output_type": "execute_result"
    }
   ],
   "source": [
    "myNestedList"
   ]
  },
  {
   "cell_type": "code",
   "execution_count": 36,
   "id": "e6b1a9ee-433c-42ad-bbff-e2390791cfce",
   "metadata": {},
   "outputs": [
    {
     "data": {
      "text/plain": [
       "['dog', 'cat', 'bird']"
      ]
     },
     "execution_count": 36,
     "metadata": {},
     "output_type": "execute_result"
    }
   ],
   "source": [
    "myNestedList[4]"
   ]
  },
  {
   "cell_type": "code",
   "execution_count": 37,
   "id": "e22d26de-60be-4aad-b55f-20e72748c832",
   "metadata": {},
   "outputs": [
    {
     "data": {
      "text/plain": [
       "'dog'"
      ]
     },
     "execution_count": 37,
     "metadata": {},
     "output_type": "execute_result"
    }
   ],
   "source": [
    "myNestedList[4][0]"
   ]
  },
  {
   "cell_type": "code",
   "execution_count": 38,
   "id": "0888edcb-82e2-48af-aa2c-5ed9e650c859",
   "metadata": {},
   "outputs": [
    {
     "data": {
      "text/plain": [
       "'bird'"
      ]
     },
     "execution_count": 38,
     "metadata": {},
     "output_type": "execute_result"
    }
   ],
   "source": [
    "myNestedList[4][2]"
   ]
  },
  {
   "cell_type": "code",
   "execution_count": 39,
   "id": "fe903afb-5583-4431-aa62-b954e0c23d99",
   "metadata": {},
   "outputs": [
    {
     "data": {
      "text/plain": [
       "'orange'"
      ]
     },
     "execution_count": 39,
     "metadata": {},
     "output_type": "execute_result"
    }
   ],
   "source": [
    "myNestedList[1][2]"
   ]
  },
  {
   "cell_type": "markdown",
   "id": "c25d5c0c-b506-4f34-9f52-a40bb15f4751",
   "metadata": {},
   "source": [
    "## modify Mutiple item at a time"
   ]
  },
  {
   "cell_type": "code",
   "execution_count": 43,
   "id": "c09fcc5a-ff3a-44f4-95a6-4287b3774be5",
   "metadata": {},
   "outputs": [
    {
     "data": {
      "text/plain": [
       "[[1, 2, 3], ['apple', 'banana', 'orange'], 3.144, 54, ['dog', 'cat', 'bird']]"
      ]
     },
     "execution_count": 43,
     "metadata": {},
     "output_type": "execute_result"
    }
   ],
   "source": [
    "myNestedList"
   ]
  },
  {
   "cell_type": "code",
   "execution_count": 44,
   "id": "0f24fa21-f426-4ad1-8813-2977de3e2f3f",
   "metadata": {},
   "outputs": [],
   "source": [
    "myNestedList[1:4] = [20,30,40]"
   ]
  },
  {
   "cell_type": "code",
   "execution_count": 45,
   "id": "ef931c67-a402-444b-b9a9-b16bab851753",
   "metadata": {},
   "outputs": [
    {
     "data": {
      "text/plain": [
       "[[1, 2, 3], 20, 30, 40, ['dog', 'cat', 'bird']]"
      ]
     },
     "execution_count": 45,
     "metadata": {},
     "output_type": "execute_result"
    }
   ],
   "source": [
    "myNestedList"
   ]
  },
  {
   "cell_type": "markdown",
   "id": "670b6e8e-1d46-4855-804c-48cb11098a81",
   "metadata": {},
   "source": [
    "## Operations on the list"
   ]
  },
  {
   "cell_type": "code",
   "execution_count": 59,
   "id": "da2483ab-5c97-49fa-ab6f-0d9a31346265",
   "metadata": {},
   "outputs": [],
   "source": [
    "myList = [1,4,5,6,7,8,9,3,2,1,5]"
   ]
  },
  {
   "cell_type": "code",
   "execution_count": 49,
   "id": "76778456-a5f7-4f56-9e31-2dd278c24680",
   "metadata": {},
   "outputs": [
    {
     "data": {
      "text/plain": [
       "9"
      ]
     },
     "execution_count": 49,
     "metadata": {},
     "output_type": "execute_result"
    }
   ],
   "source": [
    "len(myList)"
   ]
  },
  {
   "cell_type": "code",
   "execution_count": 50,
   "id": "2c6d7d39-c292-481e-b0a7-1394084aba25",
   "metadata": {},
   "outputs": [
    {
     "data": {
      "text/plain": [
       "1"
      ]
     },
     "execution_count": 50,
     "metadata": {},
     "output_type": "execute_result"
    }
   ],
   "source": [
    "min(myList)"
   ]
  },
  {
   "cell_type": "code",
   "execution_count": 51,
   "id": "9c2b0e1b-6099-4f31-88f9-9891101a82e2",
   "metadata": {},
   "outputs": [
    {
     "data": {
      "text/plain": [
       "9"
      ]
     },
     "execution_count": 51,
     "metadata": {},
     "output_type": "execute_result"
    }
   ],
   "source": [
    "max(myList)"
   ]
  },
  {
   "cell_type": "code",
   "execution_count": 52,
   "id": "7dbf0e14-15e2-4cea-a560-c24ac8222024",
   "metadata": {},
   "outputs": [
    {
     "data": {
      "text/plain": [
       "4"
      ]
     },
     "execution_count": 52,
     "metadata": {},
     "output_type": "execute_result"
    }
   ],
   "source": [
    "myList.index(5)"
   ]
  },
  {
   "cell_type": "code",
   "execution_count": 54,
   "id": "75482d9e-cce0-4605-944e-633cd667e9a8",
   "metadata": {},
   "outputs": [
    {
     "data": {
      "text/plain": [
       "6"
      ]
     },
     "execution_count": 54,
     "metadata": {},
     "output_type": "execute_result"
    }
   ],
   "source": [
    "myList[myList.index(6)]"
   ]
  },
  {
   "cell_type": "markdown",
   "id": "0b464266-a271-4cc4-a4c5-779af2e9108d",
   "metadata": {},
   "source": [
    "## Finding the frequency of an element in a list"
   ]
  },
  {
   "cell_type": "code",
   "execution_count": 55,
   "id": "dc4b1e5e-09a9-4728-b3c3-dc9ec35f7a57",
   "metadata": {},
   "outputs": [
    {
     "data": {
      "text/plain": [
       "1"
      ]
     },
     "execution_count": 55,
     "metadata": {},
     "output_type": "execute_result"
    }
   ],
   "source": [
    "myList.count(6)"
   ]
  },
  {
   "cell_type": "code",
   "execution_count": 56,
   "id": "98905bb6-bfe8-4fe7-b947-340a8556bd5b",
   "metadata": {},
   "outputs": [
    {
     "data": {
      "text/plain": [
       "[1, 2, 3, 4, 5, 6, 7, 8, 9]"
      ]
     },
     "execution_count": 56,
     "metadata": {},
     "output_type": "execute_result"
    }
   ],
   "source": [
    "myList"
   ]
  },
  {
   "cell_type": "code",
   "execution_count": 60,
   "id": "ce52c491-9004-47bf-ba36-e2ee803443fd",
   "metadata": {},
   "outputs": [
    {
     "data": {
      "text/plain": [
       "[1, 1, 2, 3, 4, 5, 5, 6, 7, 8, 9]"
      ]
     },
     "execution_count": 60,
     "metadata": {},
     "output_type": "execute_result"
    }
   ],
   "source": [
    "myList.sort()\n",
    "myList"
   ]
  },
  {
   "cell_type": "markdown",
   "id": "48f0c4e4-21fc-42be-ab76-efa9acbcd1d7",
   "metadata": {},
   "source": [
    "## Sum of list"
   ]
  },
  {
   "cell_type": "code",
   "execution_count": 61,
   "id": "7c641cda-13fc-4a77-894c-653673646ece",
   "metadata": {},
   "outputs": [
    {
     "data": {
      "text/plain": [
       "51"
      ]
     },
     "execution_count": 61,
     "metadata": {},
     "output_type": "execute_result"
    }
   ],
   "source": [
    "sum(myList)"
   ]
  },
  {
   "cell_type": "markdown",
   "id": "4aa28bd8-d3a7-4e96-a74d-9684bb7921de",
   "metadata": {},
   "source": [
    "## IN operator"
   ]
  },
  {
   "cell_type": "code",
   "execution_count": 62,
   "id": "b9464883-7f20-464a-b78f-ed0748112893",
   "metadata": {},
   "outputs": [
    {
     "data": {
      "text/plain": [
       "True"
      ]
     },
     "execution_count": 62,
     "metadata": {},
     "output_type": "execute_result"
    }
   ],
   "source": [
    "1 in myList"
   ]
  },
  {
   "cell_type": "code",
   "execution_count": 63,
   "id": "35a90251-72ca-43c8-8c6a-973db2986e09",
   "metadata": {},
   "outputs": [
    {
     "data": {
      "text/plain": [
       "True"
      ]
     },
     "execution_count": 63,
     "metadata": {},
     "output_type": "execute_result"
    }
   ],
   "source": [
    "1.0 in myList"
   ]
  },
  {
   "cell_type": "markdown",
   "id": "f0e517d1-5406-4e5a-ba2b-b32a4d70a47e",
   "metadata": {},
   "source": [
    "## Quiz\n",
    "Find the mean of the numbers in the list [3,8.5,2,11,6.7,9,4.2,7,10,5.5].\n",
    "\n",
    "Hint: The mean can be calculated by adding all elements in the list and dividing by the length of the list"
   ]
  },
  {
   "cell_type": "code",
   "execution_count": 64,
   "id": "22f2fc1f-35b4-47b1-b28d-7dfa5bca4b14",
   "metadata": {},
   "outputs": [],
   "source": [
    "myQzList = [3,8.5,2,11,6.7,9,4.2,7,10,5.5]"
   ]
  },
  {
   "cell_type": "markdown",
   "id": "5df70821-b250-4902-9e71-088db4571f71",
   "metadata": {},
   "source": [
    "meanOfList = sum(myQzList) / len(myQzList)"
   ]
  },
  {
   "cell_type": "code",
   "execution_count": 67,
   "id": "5c76e433-b5bf-4351-b2c0-f5a12f9528cc",
   "metadata": {},
   "outputs": [
    {
     "name": "stdout",
     "output_type": "stream",
     "text": [
      "6.69\n"
     ]
    }
   ],
   "source": [
    "print(meanOfList)"
   ]
  },
  {
   "cell_type": "markdown",
   "id": "70b9158e-e6c3-48f9-8143-637edc731b02",
   "metadata": {},
   "source": [
    "## Operations on list - manipulating list"
   ]
  },
  {
   "cell_type": "code",
   "execution_count": 69,
   "id": "5e1819e3-8c88-41b2-8a75-f4be403760d2",
   "metadata": {},
   "outputs": [],
   "source": [
    "myList = [\"apple\",\"banana\",\"orange\"]"
   ]
  },
  {
   "cell_type": "code",
   "execution_count": 70,
   "id": "cf95c146-bc60-4eb7-a299-d74f20629991",
   "metadata": {},
   "outputs": [],
   "source": [
    "myList.append(\"apple\")"
   ]
  },
  {
   "cell_type": "code",
   "execution_count": 71,
   "id": "a840cfbc-59f3-4105-b7e7-1ac4760c815a",
   "metadata": {},
   "outputs": [
    {
     "name": "stdout",
     "output_type": "stream",
     "text": [
      "['apple', 'banana', 'orange', 'apple']\n"
     ]
    }
   ],
   "source": [
    "print(myList)"
   ]
  },
  {
   "cell_type": "markdown",
   "id": "f1196819-914e-4c58-9a78-22285be276f0",
   "metadata": {},
   "source": [
    "### Deleting of an element in specific location"
   ]
  },
  {
   "cell_type": "code",
   "execution_count": 72,
   "id": "abb538f2-4faa-4ac8-9a3f-35e77c9c86ec",
   "metadata": {},
   "outputs": [
    {
     "data": {
      "text/plain": [
       "['apple', 'banana', 'orange', 'apple']"
      ]
     },
     "execution_count": 72,
     "metadata": {},
     "output_type": "execute_result"
    }
   ],
   "source": [
    "myList"
   ]
  },
  {
   "cell_type": "code",
   "execution_count": 73,
   "id": "a642defd-6be4-4716-be20-6f0511ab51e0",
   "metadata": {},
   "outputs": [],
   "source": [
    "del myList[0]"
   ]
  },
  {
   "cell_type": "code",
   "execution_count": 74,
   "id": "e3e95569-6f9b-4900-9015-8072ec01fc0b",
   "metadata": {},
   "outputs": [
    {
     "data": {
      "text/plain": [
       "['banana', 'orange', 'apple']"
      ]
     },
     "execution_count": 74,
     "metadata": {},
     "output_type": "execute_result"
    }
   ],
   "source": [
    "myList"
   ]
  },
  {
   "cell_type": "code",
   "execution_count": 75,
   "id": "311bb4eb-94b4-49bb-85e8-c9cdd59c8c36",
   "metadata": {},
   "outputs": [],
   "source": [
    "myList.remove('apple')"
   ]
  },
  {
   "cell_type": "code",
   "execution_count": 76,
   "id": "9e6efac1-7e35-4947-8d0a-42e336bd1533",
   "metadata": {},
   "outputs": [
    {
     "data": {
      "text/plain": [
       "['banana', 'orange']"
      ]
     },
     "execution_count": 76,
     "metadata": {},
     "output_type": "execute_result"
    }
   ],
   "source": [
    "myList"
   ]
  },
  {
   "cell_type": "markdown",
   "id": "9cd3a37c-977e-44b6-8532-b84e34bc8dd2",
   "metadata": {},
   "source": [
    "### diff between remove and del\n",
    "\n",
    "del: Purpose to delete an element by its index(position)\n",
    "\n",
    "remove(): Deletes the first occurrence of a value (not by index)"
   ]
  },
  {
   "cell_type": "markdown",
   "id": "0cba94f8-c65c-478a-9821-1568467f2126",
   "metadata": {},
   "source": [
    "## Reverse the list"
   ]
  },
  {
   "cell_type": "code",
   "execution_count": 78,
   "id": "c9d0a27d-ed5c-4baf-b09c-36d57b9b195b",
   "metadata": {},
   "outputs": [],
   "source": [
    "myList.reverse()"
   ]
  },
  {
   "cell_type": "code",
   "execution_count": 79,
   "id": "10bb2209-3a23-413d-8b4f-c436bef1af5b",
   "metadata": {},
   "outputs": [
    {
     "data": {
      "text/plain": [
       "['orange', 'banana']"
      ]
     },
     "execution_count": 79,
     "metadata": {},
     "output_type": "execute_result"
    }
   ],
   "source": [
    "myList"
   ]
  },
  {
   "cell_type": "markdown",
   "id": "7e42c271-ae2d-46ce-840a-c08b040115ec",
   "metadata": {},
   "source": [
    "# List Comprehension"
   ]
  },
  {
   "cell_type": "markdown",
   "id": "02d89ab8-cabe-4234-aa41-2f9bcf7d8b61",
   "metadata": {},
   "source": [
    "is a concise way to create lists using a single line of code, instead of using tradistional loops"
   ]
  },
  {
   "cell_type": "markdown",
   "id": "5187a7e6-31d8-453f-ae63-505bdae3e1a9",
   "metadata": {},
   "source": [
    "### syntax\n",
    "[expresion **for** item **in** iterable **if** condition]\n",
    "\n",
    "for,in,if - keywored"
   ]
  },
  {
   "cell_type": "code",
   "execution_count": 80,
   "id": "66e30731-7bd1-444d-888a-c09541dcf564",
   "metadata": {},
   "outputs": [],
   "source": [
    "square = [x**2 for x in range(1,6)]"
   ]
  },
  {
   "cell_type": "code",
   "execution_count": 81,
   "id": "5f93de37-3a7a-4cc6-a8d2-4f7d88bd9653",
   "metadata": {},
   "outputs": [
    {
     "name": "stdout",
     "output_type": "stream",
     "text": [
      "[1, 4, 9, 16, 25]\n"
     ]
    }
   ],
   "source": [
    "print(square)"
   ]
  },
  {
   "cell_type": "code",
   "execution_count": 82,
   "id": "4e3ef6a2-c0d7-4080-8f1c-b0b454726f79",
   "metadata": {},
   "outputs": [],
   "source": [
    "### traditional way of creating list"
   ]
  },
  {
   "cell_type": "code",
   "execution_count": 83,
   "id": "85d6cccb-e84e-4d33-acf0-d14b490168e0",
   "metadata": {},
   "outputs": [
    {
     "name": "stdout",
     "output_type": "stream",
     "text": [
      "[1, 4, 9, 16, 25, 36, 49, 64, 81, 100, 121, 144, 169, 196, 225, 256, 289, 324, 361, 400, 441, 484, 529, 576, 625, 676, 729, 784, 841, 900, 961, 1024, 1089, 1156, 1225, 1296, 1369, 1444, 1521, 1600, 1681, 1764, 1849, 1936, 2025, 2116, 2209, 2304, 2401, 2500, 2601, 2704, 2809, 2916, 3025, 3136, 3249, 3364, 3481, 3600, 3721, 3844, 3969, 4096, 4225, 4356, 4489, 4624, 4761, 4900, 5041, 5184, 5329, 5476, 5625, 5776, 5929, 6084, 6241, 6400, 6561, 6724, 6889, 7056, 7225, 7396, 7569, 7744, 7921, 8100, 8281, 8464, 8649, 8836, 9025, 9216, 9409, 9604, 9801, 10000]\n"
     ]
    }
   ],
   "source": [
    "sq=[]\n",
    "for i in range(1,101):\n",
    "    sq.append(i**2)\n",
    "print(sq)"
   ]
  },
  {
   "cell_type": "code",
   "execution_count": 87,
   "id": "6c126249-3d38-4014-a1a2-3d0c77f38c60",
   "metadata": {},
   "outputs": [
    {
     "name": "stdout",
     "output_type": "stream",
     "text": [
      "[1, 4, 9, 16, 25, 36, 49, 64, 81, 100, 121, 144, 169, 196, 225, 256, 289, 324, 361, 400, 441, 484, 529, 576, 625, 676, 729, 784, 841, 900, 961, 1024, 1089, 1156, 1225, 1296, 1369, 1444, 1521, 1600, 1681, 1764, 1849, 1936, 2025, 2116, 2209, 2304, 2401, 2500, 2601, 2704, 2809, 2916, 3025, 3136, 3249, 3364, 3481, 3600, 3721, 3844, 3969, 4096, 4225, 4356, 4489, 4624, 4761, 4900, 5041, 5184, 5329, 5476, 5625, 5776, 5929, 6084, 6241, 6400, 6561, 6724, 6889, 7056, 7225, 7396, 7569, 7744, 7921, 8100, 8281, 8464, 8649, 8836, 9025, 9216, 9409, 9604, 9801, 10000]\n"
     ]
    }
   ],
   "source": [
    "sqC = [i**2 for i in range(1,101)]\n",
    "print(sqC)"
   ]
  },
  {
   "cell_type": "markdown",
   "id": "5c3d898b-e1ad-41cc-9aa6-1b0c57108fdb",
   "metadata": {},
   "source": [
    "### types of list comprehesion\n",
    "\n",
    "- [exp for val in collection]\n",
    "- [exp for val in cllection if <test>]\n",
    "- [exp for val in collection if <test1> and <test2>]\n",
    "- [exp for val1 in collection and val2 in collection2]"
   ]
  },
  {
   "cell_type": "code",
   "execution_count": 92,
   "id": "7876009e-b1f7-41dd-99f7-7410ae5366c6",
   "metadata": {},
   "outputs": [
    {
     "name": "stdout",
     "output_type": "stream",
     "text": [
      "[4, 16, 36, 64, 100, 144, 196, 256, 324, 400, 484, 576, 676, 784, 900, 1024, 1156, 1296, 1444, 1600, 1764, 1936, 2116, 2304, 2500, 2704, 2916, 3136, 3364, 3600, 3844, 4096, 4356, 4624, 4900, 5184, 5476, 5776, 6084, 6400, 6724, 7056, 7396, 7744, 8100, 8464, 8836, 9216, 9604, 10000]\n"
     ]
    }
   ],
   "source": [
    "# example 1\n",
    "sq=[i**2 for i in range(1,101) if i%2==0]\n",
    "print(sq)"
   ]
  },
  {
   "cell_type": "code",
   "execution_count": 93,
   "id": "8048ae19-3e79-4aa4-967e-9c28bb6291aa",
   "metadata": {},
   "outputs": [],
   "source": [
    "movies = [\"Star Wars\", \"Gandhi\", \"Casablanca\", \"Shawshank Redemption\", \"Toy story\"\n",
    ", \"Gattaca\", \"Rear Window\", \"Ghostbusters\", \"To Kill A Mockingbird\", \"Good Wi 11 Hunting\",\n",
    "\"2001: A Space Odyssey\", \"Raiders of the Lost Ark\", \"Groundhog Day\",\n",
    "\"Close Encounters of the Third Kind\"]"
   ]
  },
  {
   "cell_type": "code",
   "execution_count": 98,
   "id": "9636ae32-694a-4a14-b1e0-22a9d2200a02",
   "metadata": {},
   "outputs": [
    {
     "name": "stdout",
     "output_type": "stream",
     "text": [
      "['Gandhi', 'Gattaca', 'Ghostbusters', 'Good Wi 11 Hunting', 'Groundhog Day']\n"
     ]
    }
   ],
   "source": [
    "movies = [ i for i in movies if i.startswith('G')]\n",
    "print(movies)"
   ]
  },
  {
   "cell_type": "code",
   "execution_count": 99,
   "id": "a2c1b431-183b-46d6-881a-f87a58769b65",
   "metadata": {},
   "outputs": [],
   "source": [
    "input_list=['wood', 'old', 'apple', 'big', 'item', 'euphoria']"
   ]
  },
  {
   "cell_type": "code",
   "execution_count": 101,
   "id": "cc535ebb-2619-49fa-957e-26233bf0a4a4",
   "metadata": {},
   "outputs": [
    {
     "name": "stdout",
     "output_type": "stream",
     "text": [
      "['old', 'apple', 'item', 'euphoria']\n"
     ]
    }
   ],
   "source": [
    "ovel = [i for i in input_list if i[0] in 'aeiouAEIOU']\n",
    "print(ovel)"
   ]
  }
 ],
 "metadata": {
  "kernelspec": {
   "display_name": "Python [conda env:jl311]",
   "language": "python",
   "name": "conda-env-jl311-py"
  },
  "language_info": {
   "codemirror_mode": {
    "name": "ipython",
    "version": 3
   },
   "file_extension": ".py",
   "mimetype": "text/x-python",
   "name": "python",
   "nbconvert_exporter": "python",
   "pygments_lexer": "ipython3",
   "version": "3.11.13"
  }
 },
 "nbformat": 4,
 "nbformat_minor": 5
}
