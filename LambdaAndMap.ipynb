{
 "cells": [
  {
   "cell_type": "markdown",
   "id": "3d871fa9-a628-4820-951b-9ee7fa2905b9",
   "metadata": {},
   "source": [
    "# Lambda"
   ]
  },
  {
   "cell_type": "markdown",
   "id": "7952585f-3bee-4d1b-8c3f-a2f379d6e888",
   "metadata": {},
   "source": [
    "A lambda function is an anonymus function defined in a single line using keword lambda\n",
    "\n",
    "it is mainly used for small simple functions that are used temporarily"
   ]
  },
  {
   "cell_type": "code",
   "execution_count": 1,
   "id": "98d84e13-e22a-469d-bb1a-1799752fe9cd",
   "metadata": {},
   "outputs": [
    {
     "name": "stdout",
     "output_type": "stream",
     "text": [
      "result using lambda: 15\n"
     ]
    }
   ],
   "source": [
    "# syntax:\n",
    "# Lambda arguments : expression\n",
    "\n",
    "# Example: Add 10 to a number using lambda\n",
    "\n",
    "add10 = lambda x:x+10\n",
    "\n",
    "print(\"result using lambda:\",add10(5))"
   ]
  },
  {
   "cell_type": "markdown",
   "id": "3ef6add6-df78-4bd5-adb5-416f715c3885",
   "metadata": {},
   "source": [
    "## When to use lambda\n",
    "\n",
    "- quick throwaway fucntions\n",
    "- when using functionlike map(),filter(), sorted() etc\n",
    "\n",
    "## When not to use lambda:\n",
    "\n",
    "- For complex logic or mutiple lines of code"
   ]
  },
  {
   "cell_type": "markdown",
   "id": "505e59b7-3811-490f-a60e-9de96e044b77",
   "metadata": {},
   "source": [
    "## What is the map() function\n",
    "\n",
    "The map() function is applies a funtion to each item in an iterabble (like a list).\n",
    "\n",
    "### sytnax\n",
    "map(function,iterable)"
   ]
  },
  {
   "cell_type": "code",
   "execution_count": 3,
   "id": "4d4c43b4-83bc-4ff2-b507-30f28d4466b1",
   "metadata": {},
   "outputs": [
    {
     "name": "stdout",
     "output_type": "stream",
     "text": [
      "Double numbers (usning def): [2, 4, 6, 8]\n"
     ]
    }
   ],
   "source": [
    "# Double each number in list\n",
    "numbers = [1,2,3,4]\n",
    "\n",
    "def doub_func(x):\n",
    "    return x*2\n",
    "\n",
    "resutl = map(doub_func,numbers)\n",
    "\n",
    "print(\"Double numbers (usning def):\",list(resutl))"
   ]
  },
  {
   "cell_type": "markdown",
   "id": "81b93b0e-cede-46dc-9218-f0c18c889d22",
   "metadata": {},
   "source": [
    "### Using lambda with map()"
   ]
  },
  {
   "cell_type": "code",
   "execution_count": 6,
   "id": "7f2f7d02-18ac-42fa-951c-ebc792dd20ea",
   "metadata": {},
   "outputs": [
    {
     "name": "stdout",
     "output_type": "stream",
     "text": [
      "Double numbers (usning lambda): [2, 4, 6, 8]\n"
     ]
    }
   ],
   "source": [
    "result_lambda = map(lambda X:X*2,numbers)\n",
    "print(\"Double numbers (usning lambda):\",list(result_lambda))"
   ]
  },
  {
   "cell_type": "markdown",
   "id": "7dc146f2-2412-4e2a-8b25-019ae7098788",
   "metadata": {},
   "source": [
    "### Another example: convert list of strings to uppercase"
   ]
  },
  {
   "cell_type": "code",
   "execution_count": 9,
   "id": "cc433e32-2ccf-45bc-b4c3-077c35e2e765",
   "metadata": {},
   "outputs": [
    {
     "name": "stdout",
     "output_type": "stream",
     "text": [
      "['APPLE', 'BANANA', 'MANGO']\n"
     ]
    }
   ],
   "source": [
    "words = ['apple','banana','mango']\n",
    "upperCase_words = map(lambda w:w.upper(),words)\n",
    "print(list(upperCase_words))"
   ]
  },
  {
   "cell_type": "markdown",
   "id": "59d7ccab-3c45-44f7-bb56-50c6bf0003d8",
   "metadata": {},
   "source": [
    "### Real-world mini case: Adding 18% GST to item prices"
   ]
  },
  {
   "cell_type": "code",
   "execution_count": 12,
   "id": "f4d99da6-6a3c-4168-ace4-755b0d21e353",
   "metadata": {},
   "outputs": [
    {
     "name": "stdout",
     "output_type": "stream",
     "text": [
      "[118.0, 295.0, 94.4, 141.6]\n"
     ]
    }
   ],
   "source": [
    "items_prices = [100,250,80,120]\n",
    "\n",
    "final_price = map(lambda p:round(p*1.18,2),items_prices)\n",
    "print(list(final_price))"
   ]
  }
 ],
 "metadata": {
  "kernelspec": {
   "display_name": "Python [conda env:jl311]",
   "language": "python",
   "name": "conda-env-jl311-py"
  },
  "language_info": {
   "codemirror_mode": {
    "name": "ipython",
    "version": 3
   },
   "file_extension": ".py",
   "mimetype": "text/x-python",
   "name": "python",
   "nbconvert_exporter": "python",
   "pygments_lexer": "ipython3",
   "version": "3.11.13"
  }
 },
 "nbformat": 4,
 "nbformat_minor": 5
}
